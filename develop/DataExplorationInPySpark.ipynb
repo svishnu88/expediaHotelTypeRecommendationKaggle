{
 "cells": [
  {
   "cell_type": "code",
   "execution_count": 33,
   "metadata": {
    "collapsed": false
   },
   "outputs": [],
   "source": [
    "import numpy as np\n",
    "import pandas as pd\n",
    "from scipy import stats, integrate\n",
    "import matplotlib.pyplot as plt\n",
    "import seaborn as sns\n",
    "sns.set(color_codes=True)\n",
    "%matplotlib inline\n"
   ]
  },
  {
   "cell_type": "markdown",
   "metadata": {
    "collapsed": false,
    "scrolled": false
   },
   "source": [
    "ls ../data/"
   ]
  },
  {
   "cell_type": "markdown",
   "metadata": {
    "collapsed": true,
    "scrolled": true
   },
   "source": [
    "df = sqlContext.read.format(\"com.databricks.spark.csv\").load('../data/train.csv')"
   ]
  },
  {
   "cell_type": "markdown",
   "metadata": {
    "collapsed": false,
    "scrolled": false
   },
   "source": [
    "df.show(2)\n"
   ]
  },
  {
   "cell_type": "markdown",
   "metadata": {},
   "source": [
    "```bash\n",
    "set header to databricks csv header to true.\n",
    "\n",
    "```"
   ]
  },
  {
   "cell_type": "markdown",
   "metadata": {
    "collapsed": false,
    "scrolled": true
   },
   "source": [
    "df = sqlContext.read.format(\"com.databricks.spark.csv\").options(header=True,inferschema=True).load('../data/train.csv')"
   ]
  },
  {
   "cell_type": "markdown",
   "metadata": {
    "collapsed": false,
    "scrolled": false
   },
   "source": [
    "df.printSchema()"
   ]
  },
  {
   "cell_type": "markdown",
   "metadata": {
    "collapsed": true
   },
   "source": [
    "df = df.coalesce(5)\n",
    "df.write.parquet(\"../data/train1\")"
   ]
  },
  {
   "cell_type": "code",
   "execution_count": 34,
   "metadata": {
    "collapsed": false
   },
   "outputs": [],
   "source": [
    "df = sqlContext.read.parquet(\"../data/train1/*.parquet\")"
   ]
  },
  {
   "cell_type": "code",
   "execution_count": 35,
   "metadata": {
    "collapsed": false
   },
   "outputs": [
    {
     "data": {
      "text/plain": [
       "37670293"
      ]
     },
     "execution_count": 35,
     "metadata": {},
     "output_type": "execute_result"
    }
   ],
   "source": [
    "df = df.cache()\n",
    "df.count()"
   ]
  },
  {
   "cell_type": "code",
   "execution_count": 36,
   "metadata": {
    "collapsed": false
   },
   "outputs": [
    {
     "data": {
      "text/plain": [
       "37670293"
      ]
     },
     "execution_count": 36,
     "metadata": {},
     "output_type": "execute_result"
    }
   ],
   "source": [
    "df.count()"
   ]
  },
  {
   "cell_type": "code",
   "execution_count": 37,
   "metadata": {
    "collapsed": false,
    "scrolled": false
   },
   "outputs": [
    {
     "name": "stdout",
     "output_type": "stream",
     "text": [
      "+---------------+--------+\n",
      "|hotel_continent|   count|\n",
      "+---------------+--------+\n",
      "|              0|  712270|\n",
      "|              1|     214|\n",
      "|              2|19777647|\n",
      "|              3| 4895159|\n",
      "|              4| 4339118|\n",
      "|              5|  373841|\n",
      "|              6| 7572044|\n",
      "+---------------+--------+\n",
      "\n"
     ]
    }
   ],
   "source": [
    "pandasdf = df.select(\"hotel_continent\").groupBy(\"hotel_continent\").count().toPandas()\n",
    "df.select(\"hotel_continent\").groupBy(\"hotel_continent\").count().show()"
   ]
  },
  {
   "cell_type": "code",
   "execution_count": 38,
   "metadata": {
    "collapsed": false
   },
   "outputs": [
    {
     "data": {
      "text/html": [
       "<div>\n",
       "<table border=\"1\" class=\"dataframe\">\n",
       "  <thead>\n",
       "    <tr style=\"text-align: right;\">\n",
       "      <th></th>\n",
       "      <th>hotel_continent</th>\n",
       "      <th>count</th>\n",
       "    </tr>\n",
       "  </thead>\n",
       "  <tbody>\n",
       "    <tr>\n",
       "      <th>0</th>\n",
       "      <td>0</td>\n",
       "      <td>712270</td>\n",
       "    </tr>\n",
       "    <tr>\n",
       "      <th>1</th>\n",
       "      <td>1</td>\n",
       "      <td>214</td>\n",
       "    </tr>\n",
       "    <tr>\n",
       "      <th>2</th>\n",
       "      <td>2</td>\n",
       "      <td>19777647</td>\n",
       "    </tr>\n",
       "    <tr>\n",
       "      <th>3</th>\n",
       "      <td>3</td>\n",
       "      <td>4895159</td>\n",
       "    </tr>\n",
       "    <tr>\n",
       "      <th>4</th>\n",
       "      <td>4</td>\n",
       "      <td>4339118</td>\n",
       "    </tr>\n",
       "    <tr>\n",
       "      <th>5</th>\n",
       "      <td>5</td>\n",
       "      <td>373841</td>\n",
       "    </tr>\n",
       "    <tr>\n",
       "      <th>6</th>\n",
       "      <td>6</td>\n",
       "      <td>7572044</td>\n",
       "    </tr>\n",
       "  </tbody>\n",
       "</table>\n",
       "</div>"
      ],
      "text/plain": [
       "   hotel_continent     count\n",
       "0                0    712270\n",
       "1                1       214\n",
       "2                2  19777647\n",
       "3                3   4895159\n",
       "4                4   4339118\n",
       "5                5    373841\n",
       "6                6   7572044"
      ]
     },
     "execution_count": 38,
     "metadata": {},
     "output_type": "execute_result"
    }
   ],
   "source": [
    "pandasdf"
   ]
  },
  {
   "cell_type": "markdown",
   "metadata": {},
   "source": [
    "```bash\n",
    "is_booking \n",
    "Values : 1,0\n",
    "1- Booked \n",
    "0- Searched\n",
    "\n",
    "```"
   ]
  },
  {
   "cell_type": "code",
   "execution_count": 39,
   "metadata": {
    "collapsed": false,
    "scrolled": true
   },
   "outputs": [
    {
     "name": "stdout",
     "output_type": "stream",
     "text": [
      "+---------------+----------+\n",
      "|hotel_continent|is_booking|\n",
      "+---------------+----------+\n",
      "|              2|         0|\n",
      "|              2|         1|\n",
      "|              2|         0|\n",
      "|              2|         0|\n",
      "|              2|         0|\n",
      "|              2|         0|\n",
      "|              2|         0|\n",
      "|              2|         0|\n",
      "|              2|         0|\n",
      "|              2|         0|\n",
      "|              2|         0|\n",
      "|              2|         0|\n",
      "|              2|         0|\n",
      "|              2|         0|\n",
      "|              2|         0|\n",
      "|              2|         0|\n",
      "|              2|         0|\n",
      "|              2|         0|\n",
      "|              2|         0|\n",
      "|              2|         0|\n",
      "+---------------+----------+\n",
      "only showing top 20 rows\n",
      "\n"
     ]
    }
   ],
   "source": [
    "df.select(\"hotel_continent\",\"is_booking\").show(20)"
   ]
  },
  {
   "cell_type": "markdown",
   "metadata": {},
   "source": [
    "### Plotting continents based on searches and bookings.\n",
    "```bash\n",
    "Findings: Continent 2 has most activity.\n",
    "```"
   ]
  },
  {
   "cell_type": "code",
   "execution_count": 40,
   "metadata": {
    "collapsed": false,
    "scrolled": false
   },
   "outputs": [
    {
     "data": {
      "text/plain": [
       "<matplotlib.axes._subplots.AxesSubplot at 0x11c5cc240>"
      ]
     },
     "execution_count": 40,
     "metadata": {},
     "output_type": "execute_result"
    },
    {
     "data": {
      "image/png": "[encoded data removed]",
      "text/plain": [
       "<matplotlib.figure.Figure at 0x11c5c7668>"
      ]
     },
     "metadata": {},
     "output_type": "display_data"
    }
   ],
   "source": [
    "pandasdf.plot()"
   ]
  },
  {
   "cell_type": "code",
   "execution_count": 41,
   "metadata": {
    "collapsed": false,
    "scrolled": true
   },
   "outputs": [
    {
     "data": {
      "text/plain": [
       "<matplotlib.axes._subplots.AxesSubplot at 0x11c5dcf28>"
      ]
     },
     "execution_count": 41,
     "metadata": {},
     "output_type": "execute_result"
    },
    {
     "data": {
      "image/png": "[encoded data removed]",
      "text/plain": [
       "<matplotlib.figure.Figure at 0x11c5e4278>"
      ]
     },
     "metadata": {},
     "output_type": "display_data"
    }
   ],
   "source": [
    "pandasdf.plot(kind='bar')"
   ]
  },
  {
   "cell_type": "code",
   "execution_count": 42,
   "metadata": {
    "collapsed": false
   },
   "outputs": [
    {
     "name": "stdout",
     "output_type": "stream",
     "text": [
      "+---------------+----------+--------+\n",
      "|hotel_continent|is_booking|   count|\n",
      "+---------------+----------+--------+\n",
      "|              4|         0| 4137269|\n",
      "|              4|         1|  201849|\n",
      "|              5|         0|  346240|\n",
      "|              5|         1|   27601|\n",
      "|              0|         0|  658454|\n",
      "|              0|         1|   53816|\n",
      "|              6|         0| 6987327|\n",
      "|              6|         1|  584717|\n",
      "|              1|         0|     203|\n",
      "|              1|         1|      11|\n",
      "|              2|         0|17964364|\n",
      "|              2|         1| 1813283|\n",
      "|              3|         0| 4575743|\n",
      "|              3|         1|  319416|\n",
      "+---------------+----------+--------+\n",
      "\n"
     ]
    }
   ],
   "source": [
    "temppandas = df.select(\"hotel_continent\",\"is_booking\").groupBy(\"hotel_continent\",\"is_booking\").count().toPandas()\n",
    "df.select(\"hotel_continent\",\"is_booking\").groupBy(\"hotel_continent\",\"is_booking\").count().show()"
   ]
  },
  {
   "cell_type": "markdown",
   "metadata": {},
   "source": [
    "### Plotting continent count based on searches , 0 denotes search."
   ]
  },
  {
   "cell_type": "code",
   "execution_count": 43,
   "metadata": {
    "collapsed": false
   },
   "outputs": [
    {
     "data": {
      "text/plain": [
       "<matplotlib.axes._subplots.AxesSubplot at 0x11c68d8d0>"
      ]
     },
     "execution_count": 43,
     "metadata": {},
     "output_type": "execute_result"
    },
    {
     "data": {
      "image/png": "[encoded data removed]",
      "text/plain": [
       "<matplotlib.figure.Figure at 0x11c666be0>"
      ]
     },
     "metadata": {},
     "output_type": "display_data"
    }
   ],
   "source": [
    "temppandas1 = temppandas[temppandas.is_booking==0]\n",
    "temppandas1[['hotel_continent','count']].sort_values(by='hotel_continent').plot(x='hotel_continent',xlim=[0,6],kind='bar')"
   ]
  },
  {
   "cell_type": "markdown",
   "metadata": {},
   "source": [
    "### Plotting continent count based on booking , 1 denotes booking"
   ]
  },
  {
   "cell_type": "code",
   "execution_count": 44,
   "metadata": {
    "collapsed": false,
    "scrolled": true
   },
   "outputs": [
    {
     "data": {
      "text/plain": [
       "<matplotlib.axes._subplots.AxesSubplot at 0x11c7dcdd8>"
      ]
     },
     "execution_count": 44,
     "metadata": {},
     "output_type": "execute_result"
    },
    {
     "data": {
      "image/png": "[encoded data removed]",
      "text/plain": [
       "<matplotlib.figure.Figure at 0x11c82ccf8>"
      ]
     },
     "metadata": {},
     "output_type": "display_data"
    }
   ],
   "source": [
    "temppandas1 = temppandas[temppandas.is_booking==1]\n",
    "temppandas1[['hotel_continent','count']].sort_values(by='hotel_continent').plot(x='hotel_continent',xlim=[0,6],kind='bar')"
   ]
  },
  {
   "cell_type": "markdown",
   "metadata": {},
   "source": [
    "### Distinct hotel categories available"
   ]
  },
  {
   "cell_type": "code",
   "execution_count": 45,
   "metadata": {
    "collapsed": false
   },
   "outputs": [
    {
     "data": {
      "text/plain": [
       "100"
      ]
     },
     "execution_count": 45,
     "metadata": {},
     "output_type": "execute_result"
    }
   ],
   "source": [
    "df.select(\"hotel_cluster\").distinct().count()"
   ]
  },
  {
   "cell_type": "markdown",
   "metadata": {},
   "source": [
    "### Exploring posa_continent : \t\"ID of continent associated with site_name \""
   ]
  },
  {
   "cell_type": "code",
   "execution_count": 46,
   "metadata": {
    "collapsed": false
   },
   "outputs": [
    {
     "name": "stdout",
     "output_type": "stream",
     "text": [
      "+--------------+\n",
      "|posa_continent|\n",
      "+--------------+\n",
      "|             0|\n",
      "|             1|\n",
      "|             2|\n",
      "|             3|\n",
      "|             4|\n",
      "+--------------+\n",
      "\n"
     ]
    }
   ],
   "source": [
    "df.select(\"posa_continent\").distinct().show()"
   ]
  },
  {
   "cell_type": "code",
   "execution_count": 47,
   "metadata": {
    "collapsed": false
   },
   "outputs": [
    {
     "name": "stdout",
     "output_type": "stream",
     "text": [
      "+--------------+----------+--------+-----------------+\n",
      "|posa_continent|is_booking|sum(cnt)|count(is_booking)|\n",
      "+--------------+----------+--------+-----------------+\n",
      "|             4|         0| 1613037|          1110181|\n",
      "|             4|         1|   81859|            80545|\n",
      "|             0|         0|  379108|           246563|\n",
      "|             0|         1|   19065|            18547|\n",
      "|             1|         0| 6322205|          4107420|\n",
      "|             1|         1|  355367|           350656|\n",
      "|             2|         0| 5296666|          3307719|\n",
      "|             2|         1|  213919|           208200|\n",
      "|             3|         0|39222013|         25897717|\n",
      "|             3|         1| 2376268|          2342745|\n",
      "+--------------+----------+--------+-----------------+\n",
      "\n"
     ]
    }
   ],
   "source": [
    "tempPandas = (df\n",
    "              .select(\"posa_continent\",\"is_booking\",\"cnt\")\n",
    "              .groupBy(\"posa_continent\",\"is_booking\")\n",
    "              .agg({'is_booking':'count','cnt':'sum'})).toPandas()\n",
    "(df\n",
    " .select(\"posa_continent\",\"is_booking\",\"cnt\")\n",
    " .groupBy(\"posa_continent\",\"is_booking\")\n",
    " .agg({'is_booking':'count','cnt':'sum'})\n",
    " .show())"
   ]
  },
  {
   "cell_type": "code",
   "execution_count": 48,
   "metadata": {
    "collapsed": false
   },
   "outputs": [
    {
     "data": {
      "text/html": [
       "<div>\n",
       "<table border=\"1\" class=\"dataframe\">\n",
       "  <thead>\n",
       "    <tr style=\"text-align: right;\">\n",
       "      <th></th>\n",
       "      <th>posa_continent</th>\n",
       "      <th>is_booking</th>\n",
       "      <th>sum(cnt)</th>\n",
       "      <th>count(is_booking)</th>\n",
       "    </tr>\n",
       "  </thead>\n",
       "  <tbody>\n",
       "    <tr>\n",
       "      <th>0</th>\n",
       "      <td>4</td>\n",
       "      <td>0</td>\n",
       "      <td>1613037</td>\n",
       "      <td>1110181</td>\n",
       "    </tr>\n",
       "    <tr>\n",
       "      <th>1</th>\n",
       "      <td>4</td>\n",
       "      <td>1</td>\n",
       "      <td>81859</td>\n",
       "      <td>80545</td>\n",
       "    </tr>\n",
       "    <tr>\n",
       "      <th>2</th>\n",
       "      <td>0</td>\n",
       "      <td>0</td>\n",
       "      <td>379108</td>\n",
       "      <td>246563</td>\n",
       "    </tr>\n",
       "    <tr>\n",
       "      <th>3</th>\n",
       "      <td>0</td>\n",
       "      <td>1</td>\n",
       "      <td>19065</td>\n",
       "      <td>18547</td>\n",
       "    </tr>\n",
       "    <tr>\n",
       "      <th>4</th>\n",
       "      <td>1</td>\n",
       "      <td>0</td>\n",
       "      <td>6322205</td>\n",
       "      <td>4107420</td>\n",
       "    </tr>\n",
       "    <tr>\n",
       "      <th>5</th>\n",
       "      <td>1</td>\n",
       "      <td>1</td>\n",
       "      <td>355367</td>\n",
       "      <td>350656</td>\n",
       "    </tr>\n",
       "    <tr>\n",
       "      <th>6</th>\n",
       "      <td>2</td>\n",
       "      <td>0</td>\n",
       "      <td>5296666</td>\n",
       "      <td>3307719</td>\n",
       "    </tr>\n",
       "    <tr>\n",
       "      <th>7</th>\n",
       "      <td>2</td>\n",
       "      <td>1</td>\n",
       "      <td>213919</td>\n",
       "      <td>208200</td>\n",
       "    </tr>\n",
       "    <tr>\n",
       "      <th>8</th>\n",
       "      <td>3</td>\n",
       "      <td>0</td>\n",
       "      <td>39222013</td>\n",
       "      <td>25897717</td>\n",
       "    </tr>\n",
       "    <tr>\n",
       "      <th>9</th>\n",
       "      <td>3</td>\n",
       "      <td>1</td>\n",
       "      <td>2376268</td>\n",
       "      <td>2342745</td>\n",
       "    </tr>\n",
       "  </tbody>\n",
       "</table>\n",
       "</div>"
      ],
      "text/plain": [
       "   posa_continent  is_booking  sum(cnt)  count(is_booking)\n",
       "0               4           0   1613037            1110181\n",
       "1               4           1     81859              80545\n",
       "2               0           0    379108             246563\n",
       "3               0           1     19065              18547\n",
       "4               1           0   6322205            4107420\n",
       "5               1           1    355367             350656\n",
       "6               2           0   5296666            3307719\n",
       "7               2           1    213919             208200\n",
       "8               3           0  39222013           25897717\n",
       "9               3           1   2376268            2342745"
      ]
     },
     "execution_count": 48,
     "metadata": {},
     "output_type": "execute_result"
    }
   ],
   "source": [
    "tempPandas"
   ]
  },
  {
   "cell_type": "code",
   "execution_count": 49,
   "metadata": {
    "collapsed": false,
    "scrolled": true
   },
   "outputs": [
    {
     "data": {
      "text/html": [
       "<div>\n",
       "<table border=\"1\" class=\"dataframe\">\n",
       "  <thead>\n",
       "    <tr style=\"text-align: right;\">\n",
       "      <th></th>\n",
       "      <th>posa_continent</th>\n",
       "      <th>is_booking</th>\n",
       "      <th>sum(cnt)</th>\n",
       "      <th>count(is_booking)</th>\n",
       "    </tr>\n",
       "  </thead>\n",
       "  <tbody>\n",
       "    <tr>\n",
       "      <th>0</th>\n",
       "      <td>4</td>\n",
       "      <td>0</td>\n",
       "      <td>1613037</td>\n",
       "      <td>1110181</td>\n",
       "    </tr>\n",
       "    <tr>\n",
       "      <th>2</th>\n",
       "      <td>0</td>\n",
       "      <td>0</td>\n",
       "      <td>379108</td>\n",
       "      <td>246563</td>\n",
       "    </tr>\n",
       "    <tr>\n",
       "      <th>4</th>\n",
       "      <td>1</td>\n",
       "      <td>0</td>\n",
       "      <td>6322205</td>\n",
       "      <td>4107420</td>\n",
       "    </tr>\n",
       "    <tr>\n",
       "      <th>6</th>\n",
       "      <td>2</td>\n",
       "      <td>0</td>\n",
       "      <td>5296666</td>\n",
       "      <td>3307719</td>\n",
       "    </tr>\n",
       "    <tr>\n",
       "      <th>8</th>\n",
       "      <td>3</td>\n",
       "      <td>0</td>\n",
       "      <td>39222013</td>\n",
       "      <td>25897717</td>\n",
       "    </tr>\n",
       "  </tbody>\n",
       "</table>\n",
       "</div>"
      ],
      "text/plain": [
       "   posa_continent  is_booking  sum(cnt)  count(is_booking)\n",
       "0               4           0   1613037            1110181\n",
       "2               0           0    379108             246563\n",
       "4               1           0   6322205            4107420\n",
       "6               2           0   5296666            3307719\n",
       "8               3           0  39222013           25897717"
      ]
     },
     "execution_count": 49,
     "metadata": {},
     "output_type": "execute_result"
    }
   ],
   "source": [
    "tempPandas0 = tempPandas[tempPandas.is_booking == 0]\n",
    "tempPandas0"
   ]
  },
  {
   "cell_type": "markdown",
   "metadata": {},
   "source": [
    "### It is observed that there is a huge number of bookings made from continent 3."
   ]
  },
  {
   "cell_type": "code",
   "execution_count": 50,
   "metadata": {
    "collapsed": false
   },
   "outputs": [
    {
     "data": {
      "text/plain": [
       "<matplotlib.axes._subplots.AxesSubplot at 0x11c6289e8>"
      ]
     },
     "execution_count": 50,
     "metadata": {},
     "output_type": "execute_result"
    },
    {
     "data": {
      "image/png": "[encoded data removed]",
      "text/plain": [
       "<matplotlib.figure.Figure at 0x11c88bdd8>"
      ]
     },
     "metadata": {},
     "output_type": "display_data"
    }
   ],
   "source": [
    "(tempPandas0[['posa_continent','count(is_booking)']]\n",
    " .sort_values(by='posa_continent')\n",
    " .plot(x='posa_continent',kind='bar',xlim=[0,6]))"
   ]
  },
  {
   "cell_type": "code",
   "execution_count": 51,
   "metadata": {
    "collapsed": false
   },
   "outputs": [
    {
     "data": {
      "text/html": [
       "<div>\n",
       "<table border=\"1\" class=\"dataframe\">\n",
       "  <thead>\n",
       "    <tr style=\"text-align: right;\">\n",
       "      <th></th>\n",
       "      <th>posa_continent</th>\n",
       "      <th>is_booking</th>\n",
       "      <th>sum(cnt)</th>\n",
       "      <th>count(is_booking)</th>\n",
       "    </tr>\n",
       "  </thead>\n",
       "  <tbody>\n",
       "    <tr>\n",
       "      <th>0</th>\n",
       "      <td>4</td>\n",
       "      <td>0</td>\n",
       "      <td>1613037</td>\n",
       "      <td>1110181</td>\n",
       "    </tr>\n",
       "    <tr>\n",
       "      <th>2</th>\n",
       "      <td>0</td>\n",
       "      <td>0</td>\n",
       "      <td>379108</td>\n",
       "      <td>246563</td>\n",
       "    </tr>\n",
       "    <tr>\n",
       "      <th>4</th>\n",
       "      <td>1</td>\n",
       "      <td>0</td>\n",
       "      <td>6322205</td>\n",
       "      <td>4107420</td>\n",
       "    </tr>\n",
       "    <tr>\n",
       "      <th>6</th>\n",
       "      <td>2</td>\n",
       "      <td>0</td>\n",
       "      <td>5296666</td>\n",
       "      <td>3307719</td>\n",
       "    </tr>\n",
       "    <tr>\n",
       "      <th>8</th>\n",
       "      <td>3</td>\n",
       "      <td>0</td>\n",
       "      <td>39222013</td>\n",
       "      <td>25897717</td>\n",
       "    </tr>\n",
       "  </tbody>\n",
       "</table>\n",
       "</div>"
      ],
      "text/plain": [
       "   posa_continent  is_booking  sum(cnt)  count(is_booking)\n",
       "0               4           0   1613037            1110181\n",
       "2               0           0    379108             246563\n",
       "4               1           0   6322205            4107420\n",
       "6               2           0   5296666            3307719\n",
       "8               3           0  39222013           25897717"
      ]
     },
     "execution_count": 51,
     "metadata": {},
     "output_type": "execute_result"
    }
   ],
   "source": [
    "tempPandas1 = tempPandas[tempPandas.is_booking == 0]\n",
    "tempPandas1"
   ]
  },
  {
   "cell_type": "code",
   "execution_count": 52,
   "metadata": {
    "collapsed": false
   },
   "outputs": [
    {
     "data": {
      "text/plain": [
       "<matplotlib.axes._subplots.AxesSubplot at 0x11c869240>"
      ]
     },
     "execution_count": 52,
     "metadata": {},
     "output_type": "execute_result"
    },
    {
     "data": {
      "image/png": "[encoded data removed]",
      "text/plain": [
       "<matplotlib.figure.Figure at 0x11c740710>"
      ]
     },
     "metadata": {},
     "output_type": "display_data"
    }
   ],
   "source": [
    "(tempPandas1[['posa_continent','count(is_booking)']]\n",
    " .sort_values(by='posa_continent')\n",
    " .plot(x='posa_continent',kind='bar',xlim=[0,6]))"
   ]
  },
  {
   "cell_type": "code",
   "execution_count": 53,
   "metadata": {
    "collapsed": false
   },
   "outputs": [
    {
     "data": {
      "text/html": [
       "<div>\n",
       "<table border=\"1\" class=\"dataframe\">\n",
       "  <thead>\n",
       "    <tr style=\"text-align: right;\">\n",
       "      <th></th>\n",
       "      <th>posa_continent</th>\n",
       "      <th>is_booking</th>\n",
       "      <th>sum(cnt)</th>\n",
       "      <th>count(is_booking)</th>\n",
       "    </tr>\n",
       "  </thead>\n",
       "  <tbody>\n",
       "    <tr>\n",
       "      <th>0</th>\n",
       "      <td>4</td>\n",
       "      <td>0</td>\n",
       "      <td>1613037</td>\n",
       "      <td>1110181</td>\n",
       "    </tr>\n",
       "    <tr>\n",
       "      <th>1</th>\n",
       "      <td>4</td>\n",
       "      <td>1</td>\n",
       "      <td>81859</td>\n",
       "      <td>80545</td>\n",
       "    </tr>\n",
       "    <tr>\n",
       "      <th>2</th>\n",
       "      <td>0</td>\n",
       "      <td>0</td>\n",
       "      <td>379108</td>\n",
       "      <td>246563</td>\n",
       "    </tr>\n",
       "    <tr>\n",
       "      <th>3</th>\n",
       "      <td>0</td>\n",
       "      <td>1</td>\n",
       "      <td>19065</td>\n",
       "      <td>18547</td>\n",
       "    </tr>\n",
       "    <tr>\n",
       "      <th>4</th>\n",
       "      <td>1</td>\n",
       "      <td>0</td>\n",
       "      <td>6322205</td>\n",
       "      <td>4107420</td>\n",
       "    </tr>\n",
       "    <tr>\n",
       "      <th>5</th>\n",
       "      <td>1</td>\n",
       "      <td>1</td>\n",
       "      <td>355367</td>\n",
       "      <td>350656</td>\n",
       "    </tr>\n",
       "    <tr>\n",
       "      <th>6</th>\n",
       "      <td>2</td>\n",
       "      <td>0</td>\n",
       "      <td>5296666</td>\n",
       "      <td>3307719</td>\n",
       "    </tr>\n",
       "    <tr>\n",
       "      <th>7</th>\n",
       "      <td>2</td>\n",
       "      <td>1</td>\n",
       "      <td>213919</td>\n",
       "      <td>208200</td>\n",
       "    </tr>\n",
       "    <tr>\n",
       "      <th>8</th>\n",
       "      <td>3</td>\n",
       "      <td>0</td>\n",
       "      <td>39222013</td>\n",
       "      <td>25897717</td>\n",
       "    </tr>\n",
       "    <tr>\n",
       "      <th>9</th>\n",
       "      <td>3</td>\n",
       "      <td>1</td>\n",
       "      <td>2376268</td>\n",
       "      <td>2342745</td>\n",
       "    </tr>\n",
       "  </tbody>\n",
       "</table>\n",
       "</div>"
      ],
      "text/plain": [
       "   posa_continent  is_booking  sum(cnt)  count(is_booking)\n",
       "0               4           0   1613037            1110181\n",
       "1               4           1     81859              80545\n",
       "2               0           0    379108             246563\n",
       "3               0           1     19065              18547\n",
       "4               1           0   6322205            4107420\n",
       "5               1           1    355367             350656\n",
       "6               2           0   5296666            3307719\n",
       "7               2           1    213919             208200\n",
       "8               3           0  39222013           25897717\n",
       "9               3           1   2376268            2342745"
      ]
     },
     "execution_count": 53,
     "metadata": {},
     "output_type": "execute_result"
    }
   ],
   "source": [
    "tempPandas"
   ]
  },
  {
   "cell_type": "code",
   "execution_count": 54,
   "metadata": {
    "collapsed": false
   },
   "outputs": [
    {
     "name": "stdout",
     "output_type": "stream",
     "text": [
      "root\n",
      " |-- date_time: timestamp (nullable = true)\n",
      " |-- site_name: integer (nullable = true)\n",
      " |-- posa_continent: integer (nullable = true)\n",
      " |-- user_location_country: integer (nullable = true)\n",
      " |-- user_location_region: integer (nullable = true)\n",
      " |-- user_location_city: integer (nullable = true)\n",
      " |-- orig_destination_distance: double (nullable = true)\n",
      " |-- user_id: integer (nullable = true)\n",
      " |-- is_mobile: integer (nullable = true)\n",
      " |-- is_package: integer (nullable = true)\n",
      " |-- channel: integer (nullable = true)\n",
      " |-- srch_ci: string (nullable = true)\n",
      " |-- srch_co: string (nullable = true)\n",
      " |-- srch_adults_cnt: integer (nullable = true)\n",
      " |-- srch_children_cnt: integer (nullable = true)\n",
      " |-- srch_rm_cnt: integer (nullable = true)\n",
      " |-- srch_destination_id: integer (nullable = true)\n",
      " |-- srch_destination_type_id: integer (nullable = true)\n",
      " |-- is_booking: integer (nullable = true)\n",
      " |-- cnt: integer (nullable = true)\n",
      " |-- hotel_continent: integer (nullable = true)\n",
      " |-- hotel_country: integer (nullable = true)\n",
      " |-- hotel_market: integer (nullable = true)\n",
      " |-- hotel_cluster: integer (nullable = true)\n",
      "\n"
     ]
    }
   ],
   "source": [
    "df.printSchema()"
   ]
  },
  {
   "cell_type": "code",
   "execution_count": 55,
   "metadata": {
    "collapsed": false
   },
   "outputs": [
    {
     "data": {
      "text/html": [
       "<div>\n",
       "<table border=\"1\" class=\"dataframe\">\n",
       "  <thead>\n",
       "    <tr style=\"text-align: right;\">\n",
       "      <th></th>\n",
       "      <th>posa_continent</th>\n",
       "      <th>hotel_continent</th>\n",
       "      <th>is_booking</th>\n",
       "      <th>sum(cnt)</th>\n",
       "      <th>count(is_booking)</th>\n",
       "    </tr>\n",
       "  </thead>\n",
       "  <tbody>\n",
       "    <tr>\n",
       "      <th>0</th>\n",
       "      <td>1</td>\n",
       "      <td>2</td>\n",
       "      <td>0</td>\n",
       "      <td>1266732</td>\n",
       "      <td>829820</td>\n",
       "    </tr>\n",
       "    <tr>\n",
       "      <th>1</th>\n",
       "      <td>1</td>\n",
       "      <td>2</td>\n",
       "      <td>1</td>\n",
       "      <td>68238</td>\n",
       "      <td>67412</td>\n",
       "    </tr>\n",
       "    <tr>\n",
       "      <th>2</th>\n",
       "      <td>2</td>\n",
       "      <td>3</td>\n",
       "      <td>0</td>\n",
       "      <td>3328897</td>\n",
       "      <td>2072351</td>\n",
       "    </tr>\n",
       "    <tr>\n",
       "      <th>3</th>\n",
       "      <td>2</td>\n",
       "      <td>3</td>\n",
       "      <td>1</td>\n",
       "      <td>125924</td>\n",
       "      <td>122435</td>\n",
       "    </tr>\n",
       "    <tr>\n",
       "      <th>4</th>\n",
       "      <td>3</td>\n",
       "      <td>4</td>\n",
       "      <td>0</td>\n",
       "      <td>6402636</td>\n",
       "      <td>3862337</td>\n",
       "    </tr>\n",
       "  </tbody>\n",
       "</table>\n",
       "</div>"
      ],
      "text/plain": [
       "   posa_continent  hotel_continent  is_booking  sum(cnt)  count(is_booking)\n",
       "0               1                2           0   1266732             829820\n",
       "1               1                2           1     68238              67412\n",
       "2               2                3           0   3328897            2072351\n",
       "3               2                3           1    125924             122435\n",
       "4               3                4           0   6402636            3862337"
      ]
     },
     "execution_count": 55,
     "metadata": {},
     "output_type": "execute_result"
    }
   ],
   "source": [
    "tempPandas = (df\n",
    "              .select(\"posa_continent\",\"is_booking\",\"hotel_continent\",\"cnt\")\n",
    "              .groupBy(\"posa_continent\",\"hotel_continent\",\"is_booking\")\n",
    "              .agg({'is_booking':'count','cnt':'sum'})).toPandas()\n",
    "tempPandas.head()"
   ]
  },
  {
   "cell_type": "code",
   "execution_count": 56,
   "metadata": {
    "collapsed": false
   },
   "outputs": [
    {
     "data": {
      "text/plain": [
       "<matplotlib.axes._subplots.AxesSubplot at 0x11c8ba1d0>"
      ]
     },
     "execution_count": 56,
     "metadata": {},
     "output_type": "execute_result"
    },
    {
     "data": {
      "image/png": "[encoded data removed]",
      "text/plain": [
       "<matplotlib.figure.Figure at 0x11ca201d0>"
      ]
     },
     "metadata": {},
     "output_type": "display_data"
    }
   ],
   "source": [
    "tempPandas.plot(y='hotel_continent')"
   ]
  },
  {
   "cell_type": "code",
   "execution_count": 57,
   "metadata": {
    "collapsed": false
   },
   "outputs": [],
   "source": [
    "tmp1 = df.sample(True,0.001).toPandas()\n"
   ]
  },
  {
   "cell_type": "code",
   "execution_count": null,
   "metadata": {
    "collapsed": false
   },
   "outputs": [],
   "source": [
    "tmp1.count()"
   ]
  },
  {
   "cell_type": "code",
   "execution_count": 59,
   "metadata": {
    "collapsed": false
   },
   "outputs": [
    {
     "data": {
      "text/plain": [
       "<matplotlib.axes._subplots.AxesSubplot at 0x11ca9ba58>"
      ]
     },
     "execution_count": 59,
     "metadata": {},
     "output_type": "execute_result"
    },
    {
     "data": {
      "image/png": "[encoded data removed]",
      "text/plain": [
       "<matplotlib.figure.Figure at 0x1154c2710>"
      ]
     },
     "metadata": {},
     "output_type": "display_data"
    }
   ],
   "source": [
    "sns.countplot(y='hotel_continent',hue='posa_continent',data=tmp1)\n"
   ]
  },
  {
   "cell_type": "code",
   "execution_count": 60,
   "metadata": {
    "collapsed": false
   },
   "outputs": [
    {
     "name": "stdout",
     "output_type": "stream",
     "text": [
      "root\n",
      " |-- date_time: timestamp (nullable = true)\n",
      " |-- site_name: integer (nullable = true)\n",
      " |-- posa_continent: integer (nullable = true)\n",
      " |-- user_location_country: integer (nullable = true)\n",
      " |-- user_location_region: integer (nullable = true)\n",
      " |-- user_location_city: integer (nullable = true)\n",
      " |-- orig_destination_distance: double (nullable = true)\n",
      " |-- user_id: integer (nullable = true)\n",
      " |-- is_mobile: integer (nullable = true)\n",
      " |-- is_package: integer (nullable = true)\n",
      " |-- channel: integer (nullable = true)\n",
      " |-- srch_ci: string (nullable = true)\n",
      " |-- srch_co: string (nullable = true)\n",
      " |-- srch_adults_cnt: integer (nullable = true)\n",
      " |-- srch_children_cnt: integer (nullable = true)\n",
      " |-- srch_rm_cnt: integer (nullable = true)\n",
      " |-- srch_destination_id: integer (nullable = true)\n",
      " |-- srch_destination_type_id: integer (nullable = true)\n",
      " |-- is_booking: integer (nullable = true)\n",
      " |-- cnt: integer (nullable = true)\n",
      " |-- hotel_continent: integer (nullable = true)\n",
      " |-- hotel_country: integer (nullable = true)\n",
      " |-- hotel_market: integer (nullable = true)\n",
      " |-- hotel_cluster: integer (nullable = true)\n",
      "\n"
     ]
    }
   ],
   "source": [
    "df.printSchema()"
   ]
  },
  {
   "cell_type": "code",
   "execution_count": 61,
   "metadata": {
    "collapsed": false
   },
   "outputs": [
    {
     "name": "stdout",
     "output_type": "stream",
     "text": [
      "+--------------+---------------+----------+-------+\n",
      "|posa_continent|hotel_continent|is_booking|  count|\n",
      "+--------------+---------------+----------+-------+\n",
      "|             1|              2|         0| 829820|\n",
      "|             1|              2|         1|  67412|\n",
      "|             2|              3|         0|2072351|\n",
      "|             2|              3|         1| 122435|\n",
      "|             3|              4|         0|3862337|\n",
      "|             3|              4|         1| 181796|\n",
      "|             4|              5|         0|   8134|\n",
      "|             4|              5|         1|    734|\n",
      "|             0|              2|         0|  99302|\n",
      "|             0|              2|         1|   6984|\n",
      "|             4|              0|         0| 319609|\n",
      "|             4|              0|         1|  25361|\n",
      "|             1|              3|         0| 488705|\n",
      "|             1|              3|         1|  34666|\n",
      "|             2|              4|         0|  34502|\n",
      "|             2|              4|         1|   2821|\n",
      "|             3|              5|         0| 197153|\n",
      "|             3|              5|         1|  17716|\n",
      "|             4|              6|         0| 206634|\n",
      "|             4|              6|         1|  18301|\n",
      "+--------------+---------------+----------+-------+\n",
      "only showing top 20 rows\n",
      "\n"
     ]
    }
   ],
   "source": [
    "(df\n",
    " .select('posa_continent','hotel_continent','is_booking')\n",
    " .groupBy('posa_continent','hotel_continent','is_booking')\n",
    " .count()\n",
    " .show())"
   ]
  },
  {
   "cell_type": "code",
   "execution_count": 62,
   "metadata": {
    "collapsed": true
   },
   "outputs": [],
   "source": [
    "temppandas = (df\n",
    " .select('posa_continent','hotel_continent','is_booking')\n",
    " .groupBy('posa_continent','hotel_continent','is_booking')\n",
    " .count()\n",
    " .toPandas()\n",
    " )"
   ]
  },
  {
   "cell_type": "code",
   "execution_count": 63,
   "metadata": {
    "collapsed": false
   },
   "outputs": [
    {
     "data": {
      "text/plain": [
       "<matplotlib.axes._subplots.AxesSubplot at 0x11d239128>"
      ]
     },
     "execution_count": 63,
     "metadata": {},
     "output_type": "execute_result"
    },
    {
     "data": {
      "image/png": "[encoded data removed]",
      "text/plain": [
       "<matplotlib.figure.Figure at 0x11d2db588>"
      ]
     },
     "metadata": {},
     "output_type": "display_data"
    }
   ],
   "source": [
    "tempPandas.plot()\n"
   ]
  },
  {
   "cell_type": "code",
   "execution_count": 64,
   "metadata": {
    "collapsed": false
   },
   "outputs": [
    {
     "data": {
      "text/plain": [
       "<matplotlib.axes._subplots.AxesSubplot at 0x11d118cc0>"
      ]
     },
     "execution_count": 64,
     "metadata": {},
     "output_type": "execute_result"
    },
    {
     "data": {
      "image/png": "[encoded data removed]",
      "text/plain": [
       "<matplotlib.figure.Figure at 0x11ccb6b70>"
      ]
     },
     "metadata": {},
     "output_type": "display_data"
    }
   ],
   "source": [
    "sns.countplot(x = 'posa_continent',data=tempPandas)"
   ]
  },
  {
   "cell_type": "code",
   "execution_count": 65,
   "metadata": {
    "collapsed": false,
    "scrolled": true
   },
   "outputs": [
    {
     "data": {
      "text/html": [
       "<div>\n",
       "<table border=\"1\" class=\"dataframe\">\n",
       "  <thead>\n",
       "    <tr style=\"text-align: right;\">\n",
       "      <th></th>\n",
       "      <th>posa_continent</th>\n",
       "      <th>hotel_continent</th>\n",
       "      <th>is_booking</th>\n",
       "      <th>sum(cnt)</th>\n",
       "      <th>count(is_booking)</th>\n",
       "    </tr>\n",
       "  </thead>\n",
       "  <tbody>\n",
       "    <tr>\n",
       "      <th>0</th>\n",
       "      <td>1</td>\n",
       "      <td>2</td>\n",
       "      <td>0</td>\n",
       "      <td>1266732</td>\n",
       "      <td>829820</td>\n",
       "    </tr>\n",
       "    <tr>\n",
       "      <th>1</th>\n",
       "      <td>1</td>\n",
       "      <td>2</td>\n",
       "      <td>1</td>\n",
       "      <td>68238</td>\n",
       "      <td>67412</td>\n",
       "    </tr>\n",
       "    <tr>\n",
       "      <th>2</th>\n",
       "      <td>2</td>\n",
       "      <td>3</td>\n",
       "      <td>0</td>\n",
       "      <td>3328897</td>\n",
       "      <td>2072351</td>\n",
       "    </tr>\n",
       "    <tr>\n",
       "      <th>3</th>\n",
       "      <td>2</td>\n",
       "      <td>3</td>\n",
       "      <td>1</td>\n",
       "      <td>125924</td>\n",
       "      <td>122435</td>\n",
       "    </tr>\n",
       "    <tr>\n",
       "      <th>4</th>\n",
       "      <td>3</td>\n",
       "      <td>4</td>\n",
       "      <td>0</td>\n",
       "      <td>6402636</td>\n",
       "      <td>3862337</td>\n",
       "    </tr>\n",
       "    <tr>\n",
       "      <th>5</th>\n",
       "      <td>3</td>\n",
       "      <td>4</td>\n",
       "      <td>1</td>\n",
       "      <td>185001</td>\n",
       "      <td>181796</td>\n",
       "    </tr>\n",
       "    <tr>\n",
       "      <th>6</th>\n",
       "      <td>4</td>\n",
       "      <td>5</td>\n",
       "      <td>0</td>\n",
       "      <td>11666</td>\n",
       "      <td>8134</td>\n",
       "    </tr>\n",
       "    <tr>\n",
       "      <th>7</th>\n",
       "      <td>4</td>\n",
       "      <td>5</td>\n",
       "      <td>1</td>\n",
       "      <td>743</td>\n",
       "      <td>734</td>\n",
       "    </tr>\n",
       "    <tr>\n",
       "      <th>8</th>\n",
       "      <td>0</td>\n",
       "      <td>2</td>\n",
       "      <td>0</td>\n",
       "      <td>154447</td>\n",
       "      <td>99302</td>\n",
       "    </tr>\n",
       "    <tr>\n",
       "      <th>9</th>\n",
       "      <td>0</td>\n",
       "      <td>2</td>\n",
       "      <td>1</td>\n",
       "      <td>7162</td>\n",
       "      <td>6984</td>\n",
       "    </tr>\n",
       "    <tr>\n",
       "      <th>10</th>\n",
       "      <td>4</td>\n",
       "      <td>0</td>\n",
       "      <td>0</td>\n",
       "      <td>479722</td>\n",
       "      <td>319609</td>\n",
       "    </tr>\n",
       "    <tr>\n",
       "      <th>11</th>\n",
       "      <td>4</td>\n",
       "      <td>0</td>\n",
       "      <td>1</td>\n",
       "      <td>25716</td>\n",
       "      <td>25361</td>\n",
       "    </tr>\n",
       "    <tr>\n",
       "      <th>12</th>\n",
       "      <td>1</td>\n",
       "      <td>3</td>\n",
       "      <td>0</td>\n",
       "      <td>755916</td>\n",
       "      <td>488705</td>\n",
       "    </tr>\n",
       "    <tr>\n",
       "      <th>13</th>\n",
       "      <td>1</td>\n",
       "      <td>3</td>\n",
       "      <td>1</td>\n",
       "      <td>35118</td>\n",
       "      <td>34666</td>\n",
       "    </tr>\n",
       "    <tr>\n",
       "      <th>14</th>\n",
       "      <td>2</td>\n",
       "      <td>4</td>\n",
       "      <td>0</td>\n",
       "      <td>55108</td>\n",
       "      <td>34502</td>\n",
       "    </tr>\n",
       "    <tr>\n",
       "      <th>15</th>\n",
       "      <td>2</td>\n",
       "      <td>4</td>\n",
       "      <td>1</td>\n",
       "      <td>2911</td>\n",
       "      <td>2821</td>\n",
       "    </tr>\n",
       "    <tr>\n",
       "      <th>16</th>\n",
       "      <td>3</td>\n",
       "      <td>5</td>\n",
       "      <td>0</td>\n",
       "      <td>292847</td>\n",
       "      <td>197153</td>\n",
       "    </tr>\n",
       "    <tr>\n",
       "      <th>17</th>\n",
       "      <td>3</td>\n",
       "      <td>5</td>\n",
       "      <td>1</td>\n",
       "      <td>18012</td>\n",
       "      <td>17716</td>\n",
       "    </tr>\n",
       "    <tr>\n",
       "      <th>18</th>\n",
       "      <td>4</td>\n",
       "      <td>6</td>\n",
       "      <td>0</td>\n",
       "      <td>286609</td>\n",
       "      <td>206634</td>\n",
       "    </tr>\n",
       "    <tr>\n",
       "      <th>19</th>\n",
       "      <td>4</td>\n",
       "      <td>6</td>\n",
       "      <td>1</td>\n",
       "      <td>18651</td>\n",
       "      <td>18301</td>\n",
       "    </tr>\n",
       "    <tr>\n",
       "      <th>20</th>\n",
       "      <td>3</td>\n",
       "      <td>0</td>\n",
       "      <td>0</td>\n",
       "      <td>325097</td>\n",
       "      <td>209125</td>\n",
       "    </tr>\n",
       "    <tr>\n",
       "      <th>21</th>\n",
       "      <td>3</td>\n",
       "      <td>0</td>\n",
       "      <td>1</td>\n",
       "      <td>17655</td>\n",
       "      <td>17425</td>\n",
       "    </tr>\n",
       "    <tr>\n",
       "      <th>22</th>\n",
       "      <td>0</td>\n",
       "      <td>3</td>\n",
       "      <td>0</td>\n",
       "      <td>9884</td>\n",
       "      <td>6781</td>\n",
       "    </tr>\n",
       "    <tr>\n",
       "      <th>23</th>\n",
       "      <td>0</td>\n",
       "      <td>3</td>\n",
       "      <td>1</td>\n",
       "      <td>660</td>\n",
       "      <td>641</td>\n",
       "    </tr>\n",
       "    <tr>\n",
       "      <th>24</th>\n",
       "      <td>4</td>\n",
       "      <td>1</td>\n",
       "      <td>0</td>\n",
       "      <td>256</td>\n",
       "      <td>192</td>\n",
       "    </tr>\n",
       "    <tr>\n",
       "      <th>25</th>\n",
       "      <td>4</td>\n",
       "      <td>1</td>\n",
       "      <td>1</td>\n",
       "      <td>9</td>\n",
       "      <td>9</td>\n",
       "    </tr>\n",
       "    <tr>\n",
       "      <th>26</th>\n",
       "      <td>1</td>\n",
       "      <td>4</td>\n",
       "      <td>0</td>\n",
       "      <td>188803</td>\n",
       "      <td>124649</td>\n",
       "    </tr>\n",
       "    <tr>\n",
       "      <th>27</th>\n",
       "      <td>1</td>\n",
       "      <td>4</td>\n",
       "      <td>1</td>\n",
       "      <td>8526</td>\n",
       "      <td>8408</td>\n",
       "    </tr>\n",
       "    <tr>\n",
       "      <th>28</th>\n",
       "      <td>2</td>\n",
       "      <td>5</td>\n",
       "      <td>0</td>\n",
       "      <td>23463</td>\n",
       "      <td>15074</td>\n",
       "    </tr>\n",
       "    <tr>\n",
       "      <th>29</th>\n",
       "      <td>2</td>\n",
       "      <td>5</td>\n",
       "      <td>1</td>\n",
       "      <td>1158</td>\n",
       "      <td>1125</td>\n",
       "    </tr>\n",
       "    <tr>\n",
       "      <th>...</th>\n",
       "      <td>...</td>\n",
       "      <td>...</td>\n",
       "      <td>...</td>\n",
       "      <td>...</td>\n",
       "      <td>...</td>\n",
       "    </tr>\n",
       "    <tr>\n",
       "      <th>36</th>\n",
       "      <td>0</td>\n",
       "      <td>4</td>\n",
       "      <td>0</td>\n",
       "      <td>147754</td>\n",
       "      <td>96563</td>\n",
       "    </tr>\n",
       "    <tr>\n",
       "      <th>37</th>\n",
       "      <td>0</td>\n",
       "      <td>4</td>\n",
       "      <td>1</td>\n",
       "      <td>7360</td>\n",
       "      <td>7190</td>\n",
       "    </tr>\n",
       "    <tr>\n",
       "      <th>38</th>\n",
       "      <td>4</td>\n",
       "      <td>2</td>\n",
       "      <td>0</td>\n",
       "      <td>331562</td>\n",
       "      <td>237481</td>\n",
       "    </tr>\n",
       "    <tr>\n",
       "      <th>39</th>\n",
       "      <td>4</td>\n",
       "      <td>2</td>\n",
       "      <td>1</td>\n",
       "      <td>16478</td>\n",
       "      <td>16187</td>\n",
       "    </tr>\n",
       "    <tr>\n",
       "      <th>40</th>\n",
       "      <td>1</td>\n",
       "      <td>5</td>\n",
       "      <td>0</td>\n",
       "      <td>200293</td>\n",
       "      <td>125154</td>\n",
       "    </tr>\n",
       "    <tr>\n",
       "      <th>41</th>\n",
       "      <td>1</td>\n",
       "      <td>5</td>\n",
       "      <td>1</td>\n",
       "      <td>8097</td>\n",
       "      <td>7972</td>\n",
       "    </tr>\n",
       "    <tr>\n",
       "      <th>42</th>\n",
       "      <td>2</td>\n",
       "      <td>6</td>\n",
       "      <td>0</td>\n",
       "      <td>949497</td>\n",
       "      <td>603710</td>\n",
       "    </tr>\n",
       "    <tr>\n",
       "      <th>43</th>\n",
       "      <td>2</td>\n",
       "      <td>6</td>\n",
       "      <td>1</td>\n",
       "      <td>42096</td>\n",
       "      <td>41224</td>\n",
       "    </tr>\n",
       "    <tr>\n",
       "      <th>44</th>\n",
       "      <td>1</td>\n",
       "      <td>0</td>\n",
       "      <td>0</td>\n",
       "      <td>71867</td>\n",
       "      <td>51527</td>\n",
       "    </tr>\n",
       "    <tr>\n",
       "      <th>45</th>\n",
       "      <td>1</td>\n",
       "      <td>0</td>\n",
       "      <td>1</td>\n",
       "      <td>5733</td>\n",
       "      <td>5671</td>\n",
       "    </tr>\n",
       "    <tr>\n",
       "      <th>46</th>\n",
       "      <td>2</td>\n",
       "      <td>1</td>\n",
       "      <td>0</td>\n",
       "      <td>2</td>\n",
       "      <td>1</td>\n",
       "    </tr>\n",
       "    <tr>\n",
       "      <th>47</th>\n",
       "      <td>2</td>\n",
       "      <td>1</td>\n",
       "      <td>1</td>\n",
       "      <td>1</td>\n",
       "      <td>1</td>\n",
       "    </tr>\n",
       "    <tr>\n",
       "      <th>48</th>\n",
       "      <td>3</td>\n",
       "      <td>2</td>\n",
       "      <td>0</td>\n",
       "      <td>24197132</td>\n",
       "      <td>16293049</td>\n",
       "    </tr>\n",
       "    <tr>\n",
       "      <th>49</th>\n",
       "      <td>3</td>\n",
       "      <td>2</td>\n",
       "      <td>1</td>\n",
       "      <td>1710126</td>\n",
       "      <td>1687389</td>\n",
       "    </tr>\n",
       "    <tr>\n",
       "      <th>50</th>\n",
       "      <td>0</td>\n",
       "      <td>5</td>\n",
       "      <td>0</td>\n",
       "      <td>1204</td>\n",
       "      <td>725</td>\n",
       "    </tr>\n",
       "    <tr>\n",
       "      <th>51</th>\n",
       "      <td>0</td>\n",
       "      <td>5</td>\n",
       "      <td>1</td>\n",
       "      <td>54</td>\n",
       "      <td>54</td>\n",
       "    </tr>\n",
       "    <tr>\n",
       "      <th>52</th>\n",
       "      <td>4</td>\n",
       "      <td>3</td>\n",
       "      <td>0</td>\n",
       "      <td>476167</td>\n",
       "      <td>318913</td>\n",
       "    </tr>\n",
       "    <tr>\n",
       "      <th>53</th>\n",
       "      <td>4</td>\n",
       "      <td>3</td>\n",
       "      <td>1</td>\n",
       "      <td>18599</td>\n",
       "      <td>18319</td>\n",
       "    </tr>\n",
       "    <tr>\n",
       "      <th>54</th>\n",
       "      <td>1</td>\n",
       "      <td>6</td>\n",
       "      <td>0</td>\n",
       "      <td>3838594</td>\n",
       "      <td>2487565</td>\n",
       "    </tr>\n",
       "    <tr>\n",
       "      <th>55</th>\n",
       "      <td>1</td>\n",
       "      <td>6</td>\n",
       "      <td>1</td>\n",
       "      <td>229655</td>\n",
       "      <td>226527</td>\n",
       "    </tr>\n",
       "    <tr>\n",
       "      <th>56</th>\n",
       "      <td>0</td>\n",
       "      <td>0</td>\n",
       "      <td>0</td>\n",
       "      <td>1231</td>\n",
       "      <td>824</td>\n",
       "    </tr>\n",
       "    <tr>\n",
       "      <th>57</th>\n",
       "      <td>0</td>\n",
       "      <td>0</td>\n",
       "      <td>1</td>\n",
       "      <td>76</td>\n",
       "      <td>76</td>\n",
       "    </tr>\n",
       "    <tr>\n",
       "      <th>58</th>\n",
       "      <td>2</td>\n",
       "      <td>2</td>\n",
       "      <td>0</td>\n",
       "      <td>815563</td>\n",
       "      <td>504712</td>\n",
       "    </tr>\n",
       "    <tr>\n",
       "      <th>59</th>\n",
       "      <td>2</td>\n",
       "      <td>2</td>\n",
       "      <td>1</td>\n",
       "      <td>36402</td>\n",
       "      <td>35311</td>\n",
       "    </tr>\n",
       "    <tr>\n",
       "      <th>60</th>\n",
       "      <td>3</td>\n",
       "      <td>3</td>\n",
       "      <td>0</td>\n",
       "      <td>2509519</td>\n",
       "      <td>1688993</td>\n",
       "    </tr>\n",
       "    <tr>\n",
       "      <th>61</th>\n",
       "      <td>3</td>\n",
       "      <td>3</td>\n",
       "      <td>1</td>\n",
       "      <td>145591</td>\n",
       "      <td>143355</td>\n",
       "    </tr>\n",
       "    <tr>\n",
       "      <th>62</th>\n",
       "      <td>0</td>\n",
       "      <td>6</td>\n",
       "      <td>0</td>\n",
       "      <td>64588</td>\n",
       "      <td>42368</td>\n",
       "    </tr>\n",
       "    <tr>\n",
       "      <th>63</th>\n",
       "      <td>0</td>\n",
       "      <td>6</td>\n",
       "      <td>1</td>\n",
       "      <td>3753</td>\n",
       "      <td>3602</td>\n",
       "    </tr>\n",
       "    <tr>\n",
       "      <th>64</th>\n",
       "      <td>4</td>\n",
       "      <td>4</td>\n",
       "      <td>0</td>\n",
       "      <td>27055</td>\n",
       "      <td>19218</td>\n",
       "    </tr>\n",
       "    <tr>\n",
       "      <th>65</th>\n",
       "      <td>4</td>\n",
       "      <td>4</td>\n",
       "      <td>1</td>\n",
       "      <td>1663</td>\n",
       "      <td>1634</td>\n",
       "    </tr>\n",
       "  </tbody>\n",
       "</table>\n",
       "<p>66 rows × 5 columns</p>\n",
       "</div>"
      ],
      "text/plain": [
       "    posa_continent  hotel_continent  is_booking  sum(cnt)  count(is_booking)\n",
       "0                1                2           0   1266732             829820\n",
       "1                1                2           1     68238              67412\n",
       "2                2                3           0   3328897            2072351\n",
       "3                2                3           1    125924             122435\n",
       "4                3                4           0   6402636            3862337\n",
       "5                3                4           1    185001             181796\n",
       "6                4                5           0     11666               8134\n",
       "7                4                5           1       743                734\n",
       "8                0                2           0    154447              99302\n",
       "9                0                2           1      7162               6984\n",
       "10               4                0           0    479722             319609\n",
       "11               4                0           1     25716              25361\n",
       "12               1                3           0    755916             488705\n",
       "13               1                3           1     35118              34666\n",
       "14               2                4           0     55108              34502\n",
       "15               2                4           1      2911               2821\n",
       "16               3                5           0    292847             197153\n",
       "17               3                5           1     18012              17716\n",
       "18               4                6           0    286609             206634\n",
       "19               4                6           1     18651              18301\n",
       "20               3                0           0    325097             209125\n",
       "21               3                0           1     17655              17425\n",
       "22               0                3           0      9884               6781\n",
       "23               0                3           1       660                641\n",
       "24               4                1           0       256                192\n",
       "25               4                1           1         9                  9\n",
       "26               1                4           0    188803             124649\n",
       "27               1                4           1      8526               8408\n",
       "28               2                5           0     23463              15074\n",
       "29               2                5           1      1158               1125\n",
       "..             ...              ...         ...       ...                ...\n",
       "36               0                4           0    147754              96563\n",
       "37               0                4           1      7360               7190\n",
       "38               4                2           0    331562             237481\n",
       "39               4                2           1     16478              16187\n",
       "40               1                5           0    200293             125154\n",
       "41               1                5           1      8097               7972\n",
       "42               2                6           0    949497             603710\n",
       "43               2                6           1     42096              41224\n",
       "44               1                0           0     71867              51527\n",
       "45               1                0           1      5733               5671\n",
       "46               2                1           0         2                  1\n",
       "47               2                1           1         1                  1\n",
       "48               3                2           0  24197132           16293049\n",
       "49               3                2           1   1710126            1687389\n",
       "50               0                5           0      1204                725\n",
       "51               0                5           1        54                 54\n",
       "52               4                3           0    476167             318913\n",
       "53               4                3           1     18599              18319\n",
       "54               1                6           0   3838594            2487565\n",
       "55               1                6           1    229655             226527\n",
       "56               0                0           0      1231                824\n",
       "57               0                0           1        76                 76\n",
       "58               2                2           0    815563             504712\n",
       "59               2                2           1     36402              35311\n",
       "60               3                3           0   2509519            1688993\n",
       "61               3                3           1    145591             143355\n",
       "62               0                6           0     64588              42368\n",
       "63               0                6           1      3753               3602\n",
       "64               4                4           0     27055              19218\n",
       "65               4                4           1      1663               1634\n",
       "\n",
       "[66 rows x 5 columns]"
      ]
     },
     "execution_count": 65,
     "metadata": {},
     "output_type": "execute_result"
    }
   ],
   "source": [
    "tempPandas"
   ]
  },
  {
   "cell_type": "code",
   "execution_count": 66,
   "metadata": {
    "collapsed": false
   },
   "outputs": [
    {
     "data": {
      "text/plain": [
       "<matplotlib.axes._subplots.AxesSubplot at 0x11cccd9b0>"
      ]
     },
     "execution_count": 66,
     "metadata": {},
     "output_type": "execute_result"
    },
    {
     "data": {
      "image/png": "[encoded data removed]",
      "text/plain": [
       "<matplotlib.figure.Figure at 0x11b8bb7f0>"
      ]
     },
     "metadata": {},
     "output_type": "display_data"
    }
   ],
   "source": [
    "sns.set_color_codes(\"pastel\")\n",
    "sns.barplot(x=\"posa_continent\", y=\"hotel_continent\", data=tempPandas,\n",
    "            label=\"Total\", color=\"b\")"
   ]
  },
  {
   "cell_type": "code",
   "execution_count": 67,
   "metadata": {
    "collapsed": false
   },
   "outputs": [
    {
     "data": {
      "text/plain": [
       "<matplotlib.axes._subplots.AxesSubplot at 0x11d233668>"
      ]
     },
     "execution_count": 67,
     "metadata": {},
     "output_type": "execute_result"
    },
    {
     "data": {
      "image/png": "[encoded data removed]",
      "text/plain": [
       "<matplotlib.figure.Figure at 0x11d07aef0>"
      ]
     },
     "metadata": {},
     "output_type": "display_data"
    }
   ],
   "source": [
    "sns.set_color_codes(\"muted\")\n",
    "sns.barplot(x=\"count(is_booking)\", y=\"hotel_continent\", data=tempPandas,\n",
    "            label=\"Alcohol-involved\", color=\"b\")\n"
   ]
  },
  {
   "cell_type": "code",
   "execution_count": 68,
   "metadata": {
    "collapsed": false
   },
   "outputs": [
    {
     "data": {
      "text/html": [
       "\n",
       "    <div class=\"bk-banner\">\n",
       "        <a href=\"http://bokeh.pydata.org\" target=\"_blank\" class=\"bk-logo bk-logo-small bk-logo-notebook\"></a>\n",
       "        <span id=\"c877ee33-d039-4641-b384-9ea6328d4a49\">Loading BokehJS ...</span>\n",
       "    </div>"
      ]
     },
     "metadata": {},
     "output_type": "display_data"
    },
    {
     "data": {
      "application/javascript": [
       "\n",
       "(function(global) {\n",
       "  function now() {\n",
       "    return new Date();\n",
       "  }\n",
       "\n",
       "  if (typeof (window._bokeh_onload_callbacks) === \"undefined\") {\n",
       "    window._bokeh_onload_callbacks = [];\n",
       "  }\n",
       "\n",
       "  function run_callbacks() {\n",
       "    window._bokeh_onload_callbacks.forEach(function(callback) { callback() });\n",
       "    delete window._bokeh_onload_callbacks\n",
       "    console.info(\"Bokeh: all callbacks have finished\");\n",
       "  }\n",
       "\n",
       "  function load_libs(js_urls, callback) {\n",
       "    window._bokeh_onload_callbacks.push(callback);\n",
       "    if (window._bokeh_is_loading > 0) {\n",
       "      console.log(\"Bokeh: BokehJS is being loaded, scheduling callback at\", now());\n",
       "      return null;\n",
       "    }\n",
       "    if (js_urls == null || js_urls.length === 0) {\n",
       "      run_callbacks();\n",
       "      return null;\n",
       "    }\n",
       "    console.log(\"Bokeh: BokehJS not loaded, scheduling load and callback at\", now());\n",
       "    window._bokeh_is_loading = js_urls.length;\n",
       "    for (var i = 0; i < js_urls.length; i++) {\n",
       "      var url = js_urls[i];\n",
       "      var s = document.createElement('script');\n",
       "      s.src = url;\n",
       "      s.async = false;\n",
       "      s.onreadystatechange = s.onload = function() {\n",
       "        window._bokeh_is_loading--;\n",
       "        if (window._bokeh_is_loading === 0) {\n",
       "          console.log(\"Bokeh: all BokehJS libraries loaded\");\n",
       "          run_callbacks()\n",
       "        }\n",
       "      };\n",
       "      s.onerror = function() {\n",
       "        console.warn(\"failed to load library \" + url);\n",
       "      };\n",
       "      console.log(\"Bokeh: injecting script tag for BokehJS library: \", url);\n",
       "      document.getElementsByTagName(\"head\")[0].appendChild(s);\n",
       "    }\n",
       "  };\n",
       "\n",
       "  var js_urls = ['https://cdn.pydata.org/bokeh/release/bokeh-0.11.1.min.js', 'https://cdn.pydata.org/bokeh/release/bokeh-widgets-0.11.1.min.js', 'https://cdn.pydata.org/bokeh/release/bokeh-compiler-0.11.1.min.js'];\n",
       "\n",
       "  var inline_js = [\n",
       "    function(Bokeh) {\n",
       "      Bokeh.set_log_level(\"info\");\n",
       "    },\n",
       "    \n",
       "    function(Bokeh) {\n",
       "      Bokeh.$(\"#c877ee33-d039-4641-b384-9ea6328d4a49\").text(\"BokehJS successfully loaded\");\n",
       "    },\n",
       "    function(Bokeh) {\n",
       "      console.log(\"Bokeh: injecting CSS: https://cdn.pydata.org/bokeh/release/bokeh-0.11.1.min.css\");\n",
       "      Bokeh.embed.inject_css(\"https://cdn.pydata.org/bokeh/release/bokeh-0.11.1.min.css\");\n",
       "      console.log(\"Bokeh: injecting CSS: https://cdn.pydata.org/bokeh/release/bokeh-widgets-0.11.1.min.css\");\n",
       "      Bokeh.embed.inject_css(\"https://cdn.pydata.org/bokeh/release/bokeh-widgets-0.11.1.min.css\");\n",
       "    }\n",
       "  ];\n",
       "\n",
       "  function run_inline_js() {\n",
       "    for (var i = 0; i < inline_js.length; i++) {\n",
       "      inline_js[i](window.Bokeh);\n",
       "    }\n",
       "  }\n",
       "\n",
       "  if (window._bokeh_is_loading === 0) {\n",
       "    console.log(\"Bokeh: BokehJS loaded, going straight to plotting\");\n",
       "    run_inline_js();\n",
       "  } else {\n",
       "    load_libs(js_urls, function() {\n",
       "      console.log(\"Bokeh: BokehJS plotting callback run at\", now());\n",
       "      run_inline_js();\n",
       "    });\n",
       "  }\n",
       "}(this));"
      ]
     },
     "metadata": {},
     "output_type": "display_data"
    },
    {
     "data": {
      "text/html": [
       "\n",
       "\n",
       "    <div class=\"plotdiv\" id=\"8f17d9d2-c03c-4502-97ac-181e74c2c9f5\"></div>\n",
       "<script type=\"text/javascript\">\n",
       "  \n",
       "  (function(global) {\n",
       "    function now() {\n",
       "      return new Date();\n",
       "    }\n",
       "  \n",
       "    if (typeof (window._bokeh_onload_callbacks) === \"undefined\") {\n",
       "      window._bokeh_onload_callbacks = [];\n",
       "    }\n",
       "  \n",
       "    function run_callbacks() {\n",
       "      window._bokeh_onload_callbacks.forEach(function(callback) { callback() });\n",
       "      delete window._bokeh_onload_callbacks\n",
       "      console.info(\"Bokeh: all callbacks have finished\");\n",
       "    }\n",
       "  \n",
       "    function load_libs(js_urls, callback) {\n",
       "      window._bokeh_onload_callbacks.push(callback);\n",
       "      if (window._bokeh_is_loading > 0) {\n",
       "        console.log(\"Bokeh: BokehJS is being loaded, scheduling callback at\", now());\n",
       "        return null;\n",
       "      }\n",
       "      if (js_urls == null || js_urls.length === 0) {\n",
       "        run_callbacks();\n",
       "        return null;\n",
       "      }\n",
       "      console.log(\"Bokeh: BokehJS not loaded, scheduling load and callback at\", now());\n",
       "      window._bokeh_is_loading = js_urls.length;\n",
       "      for (var i = 0; i < js_urls.length; i++) {\n",
       "        var url = js_urls[i];\n",
       "        var s = document.createElement('script');\n",
       "        s.src = url;\n",
       "        s.async = false;\n",
       "        s.onreadystatechange = s.onload = function() {\n",
       "          window._bokeh_is_loading--;\n",
       "          if (window._bokeh_is_loading === 0) {\n",
       "            console.log(\"Bokeh: all BokehJS libraries loaded\");\n",
       "            run_callbacks()\n",
       "          }\n",
       "        };\n",
       "        s.onerror = function() {\n",
       "          console.warn(\"failed to load library \" + url);\n",
       "        };\n",
       "        console.log(\"Bokeh: injecting script tag for BokehJS library: \", url);\n",
       "        document.getElementsByTagName(\"head\")[0].appendChild(s);\n",
       "      }\n",
       "    };var element = document.getElementById(\"8f17d9d2-c03c-4502-97ac-181e74c2c9f5\");\n",
       "    if (element == null) {\n",
       "      console.log(\"Bokeh: ERROR: autoload.js configured with elementid '8f17d9d2-c03c-4502-97ac-181e74c2c9f5' but no matching script tag was found. \")\n",
       "      return false;\n",
       "    }\n",
       "  \n",
       "    var js_urls = [];\n",
       "  \n",
       "    var inline_js = [\n",
       "      function(Bokeh) {\n",
       "        Bokeh.$(function() {\n",
       "            var docs_json = {\"095fe7a4-5494-49f6-aa2e-56418893476b\":{\"roots\":{\"references\":[{\"attributes\":{},\"id\":\"d6699e9b-1b2a-40ad-9839-d87b6681314d\",\"type\":\"BasicTicker\"},{\"attributes\":{\"plot\":{\"id\":\"d0d92c82-b427-4879-a089-7f77b08e6696\",\"subtype\":\"Figure\",\"type\":\"Plot\"},\"ticker\":{\"id\":\"ae8655d9-9a9c-4eab-8f29-d81a7c367616\",\"type\":\"BasicTicker\"}},\"id\":\"fa4a3200-bdef-433f-b20b-e9140fdc93a7\",\"type\":\"Grid\"},{\"attributes\":{\"callback\":null},\"id\":\"54b17a8f-f7b4-42ba-b4b8-90f0f9157f90\",\"type\":\"DataRange1d\"},{\"attributes\":{\"overlay\":{\"id\":\"0c608f15-c801-4416-aaaa-784afbc86cff\",\"type\":\"BoxAnnotation\"},\"plot\":{\"id\":\"d0d92c82-b427-4879-a089-7f77b08e6696\",\"subtype\":\"Figure\",\"type\":\"Plot\"}},\"id\":\"a495f310-25ba-4948-bad6-925990ac93ca\",\"type\":\"BoxZoomTool\"},{\"attributes\":{\"line_color\":{\"value\":\"#1f77b4\"},\"line_width\":{\"value\":2},\"x\":{\"field\":\"x\"},\"y\":{\"field\":\"y\"}},\"id\":\"591733ef-2bfd-44cf-ad3b-b3989671914a\",\"type\":\"Line\"},{\"attributes\":{\"plot\":{\"id\":\"d0d92c82-b427-4879-a089-7f77b08e6696\",\"subtype\":\"Figure\",\"type\":\"Plot\"}},\"id\":\"08e04574-b21b-4296-8ed9-bb696fc5ac6c\",\"type\":\"PanTool\"},{\"attributes\":{\"below\":[{\"id\":\"c56d0587-5738-4a84-a770-7094bf799d19\",\"type\":\"LinearAxis\"}],\"left\":[{\"id\":\"be255456-a99e-4854-9e72-905ae4fea5d5\",\"type\":\"LinearAxis\"}],\"renderers\":[{\"id\":\"c56d0587-5738-4a84-a770-7094bf799d19\",\"type\":\"LinearAxis\"},{\"id\":\"17a016bb-b40a-4ca3-94b0-c31612be7d83\",\"type\":\"Grid\"},{\"id\":\"be255456-a99e-4854-9e72-905ae4fea5d5\",\"type\":\"LinearAxis\"},{\"id\":\"e74c1739-f766-43cf-9b6f-fe0ea84ab9a9\",\"type\":\"Grid\"},{\"id\":\"64d601fa-c3bb-4ffa-8a6f-e4f55f7d630c\",\"type\":\"BoxAnnotation\"},{\"id\":\"5ecf81a6-81c8-466c-b9e3-3ce413c15d0c\",\"type\":\"GlyphRenderer\"}],\"tool_events\":{\"id\":\"ca8707d3-c0a6-465a-86d8-0d0422402a6e\",\"type\":\"ToolEvents\"},\"tools\":[{\"id\":\"a94c108d-7d39-4c4c-8ac7-ef36f10f0cfb\",\"type\":\"PanTool\"},{\"id\":\"b5c3002b-319f-4c75-99ed-457092bb11f3\",\"type\":\"WheelZoomTool\"},{\"id\":\"ecf72297-7910-4e24-927b-ede7e5f4b3c7\",\"type\":\"BoxZoomTool\"},{\"id\":\"da59ba75-456c-4ca3-b2ad-1bffffde3259\",\"type\":\"PreviewSaveTool\"},{\"id\":\"dba52fad-fa3f-4002-a8e1-986f53ece76d\",\"type\":\"ResizeTool\"},{\"id\":\"16653b8b-13ad-49f7-bb6d-b36451e65179\",\"type\":\"ResetTool\"},{\"id\":\"dbef4d71-7fb1-4a32-8784-af2300e09394\",\"type\":\"HelpTool\"}],\"x_range\":{\"id\":\"6d60104b-abc4-428c-b3ad-3e6a7597eb13\",\"type\":\"DataRange1d\"},\"y_range\":{\"id\":\"17261dc5-dd2d-4ed2-b6c8-c7df47c41337\",\"type\":\"DataRange1d\"}},\"id\":\"c21d4f40-9d4c-4382-a007-c6a8427416d2\",\"subtype\":\"Figure\",\"type\":\"Plot\"},{\"attributes\":{},\"id\":\"ae8655d9-9a9c-4eab-8f29-d81a7c367616\",\"type\":\"BasicTicker\"},{\"attributes\":{\"plot\":{\"id\":\"9567f8c4-9cc0-4527-9c21-bd1ea3f86488\",\"subtype\":\"Figure\",\"type\":\"Plot\"}},\"id\":\"fc19cb00-6dac-49be-bab5-f38791200087\",\"type\":\"PanTool\"},{\"attributes\":{\"callback\":null},\"id\":\"3e441714-7c43-4a67-9254-b8971a054c01\",\"type\":\"DataRange1d\"},{\"attributes\":{},\"id\":\"51c987ce-afeb-42a3-8671-c08f832858e0\",\"type\":\"BasicTickFormatter\"},{\"attributes\":{},\"id\":\"7a0680f7-f370-435c-bf0f-203af85a8423\",\"type\":\"BasicTicker\"},{\"attributes\":{\"plot\":{\"id\":\"c21d4f40-9d4c-4382-a007-c6a8427416d2\",\"subtype\":\"Figure\",\"type\":\"Plot\"}},\"id\":\"a94c108d-7d39-4c4c-8ac7-ef36f10f0cfb\",\"type\":\"PanTool\"},{\"attributes\":{\"overlay\":{\"id\":\"4eee66b9-64ef-4893-90eb-9a8a4ce13182\",\"type\":\"BoxAnnotation\"},\"plot\":{\"id\":\"9567f8c4-9cc0-4527-9c21-bd1ea3f86488\",\"subtype\":\"Figure\",\"type\":\"Plot\"}},\"id\":\"31ddfacc-0f29-4ea1-a269-31e5d950e916\",\"type\":\"BoxZoomTool\"},{\"attributes\":{\"formatter\":{\"id\":\"0d35fd2e-b66e-47d4-9865-6c2ed043d0e3\",\"type\":\"BasicTickFormatter\"},\"plot\":{\"id\":\"9567f8c4-9cc0-4527-9c21-bd1ea3f86488\",\"subtype\":\"Figure\",\"type\":\"Plot\"},\"ticker\":{\"id\":\"d6699e9b-1b2a-40ad-9839-d87b6681314d\",\"type\":\"BasicTicker\"}},\"id\":\"e1b879f5-adb2-419c-86b7-16612a11474e\",\"type\":\"LinearAxis\"},{\"attributes\":{\"dimension\":1,\"plot\":{\"id\":\"9567f8c4-9cc0-4527-9c21-bd1ea3f86488\",\"subtype\":\"Figure\",\"type\":\"Plot\"},\"ticker\":{\"id\":\"7a83245a-b88f-4c1e-8425-0a3cac131661\",\"type\":\"BasicTicker\"}},\"id\":\"a7eb109b-ba29-4292-9baf-657b1560a64a\",\"type\":\"Grid\"},{\"attributes\":{\"plot\":{\"id\":\"d0d92c82-b427-4879-a089-7f77b08e6696\",\"subtype\":\"Figure\",\"type\":\"Plot\"}},\"id\":\"04649b51-cebd-455f-9e12-405a3b3d9e3d\",\"type\":\"HelpTool\"},{\"attributes\":{\"line_color\":{\"value\":\"#1f77b4\"},\"line_width\":{\"value\":2},\"x\":{\"field\":\"x\"},\"y\":{\"field\":\"y\"}},\"id\":\"172bfe0c-e44b-4768-a0c4-16d2c1647672\",\"type\":\"Line\"},{\"attributes\":{\"callback\":null,\"column_names\":[\"y\",\"x\"],\"data\":{\"x\":[1,2,3,4,5],\"y\":[6,7,2,4,5]}},\"id\":\"39d9139e-caee-46e4-960f-761be31d9072\",\"type\":\"ColumnDataSource\"},{\"attributes\":{\"data_source\":{\"id\":\"d5ba9a80-0a2d-4555-ab1d-9193b6380acc\",\"type\":\"ColumnDataSource\"},\"glyph\":{\"id\":\"591733ef-2bfd-44cf-ad3b-b3989671914a\",\"type\":\"Line\"},\"hover_glyph\":null,\"nonselection_glyph\":{\"id\":\"2e35fa6f-78c2-40fc-b97a-358e2915e4da\",\"type\":\"Line\"},\"selection_glyph\":null},\"id\":\"5ecf81a6-81c8-466c-b9e3-3ce413c15d0c\",\"type\":\"GlyphRenderer\"},{\"attributes\":{\"plot\":{\"id\":\"c21d4f40-9d4c-4382-a007-c6a8427416d2\",\"subtype\":\"Figure\",\"type\":\"Plot\"}},\"id\":\"dba52fad-fa3f-4002-a8e1-986f53ece76d\",\"type\":\"ResizeTool\"},{\"attributes\":{\"plot\":{\"id\":\"c21d4f40-9d4c-4382-a007-c6a8427416d2\",\"subtype\":\"Figure\",\"type\":\"Plot\"}},\"id\":\"16653b8b-13ad-49f7-bb6d-b36451e65179\",\"type\":\"ResetTool\"},{\"attributes\":{\"below\":[{\"id\":\"e1b879f5-adb2-419c-86b7-16612a11474e\",\"type\":\"LinearAxis\"}],\"left\":[{\"id\":\"7d528bf6-aca8-4531-a4d2-fe9bb89f082b\",\"type\":\"LinearAxis\"}],\"renderers\":[{\"id\":\"e1b879f5-adb2-419c-86b7-16612a11474e\",\"type\":\"LinearAxis\"},{\"id\":\"7f8fdce6-89a9-4fc1-ae3d-deaec6a08de9\",\"type\":\"Grid\"},{\"id\":\"7d528bf6-aca8-4531-a4d2-fe9bb89f082b\",\"type\":\"LinearAxis\"},{\"id\":\"a7eb109b-ba29-4292-9baf-657b1560a64a\",\"type\":\"Grid\"},{\"id\":\"4eee66b9-64ef-4893-90eb-9a8a4ce13182\",\"type\":\"BoxAnnotation\"},{\"id\":\"2a6b7963-1b4e-4aff-ac6a-26a1ef4c27e6\",\"type\":\"GlyphRenderer\"}],\"tool_events\":{\"id\":\"15294000-c625-4eff-8dab-e1f523690e26\",\"type\":\"ToolEvents\"},\"tools\":[{\"id\":\"fc19cb00-6dac-49be-bab5-f38791200087\",\"type\":\"PanTool\"},{\"id\":\"a622d5a4-8f6a-4567-a219-aa690a113f99\",\"type\":\"WheelZoomTool\"},{\"id\":\"31ddfacc-0f29-4ea1-a269-31e5d950e916\",\"type\":\"BoxZoomTool\"},{\"id\":\"6f6de093-05d7-4101-b2a3-968a7d81fc21\",\"type\":\"PreviewSaveTool\"},{\"id\":\"49e97e11-91ad-453e-bd3e-ee2a460d07fb\",\"type\":\"ResizeTool\"},{\"id\":\"41a32d5a-e662-4a3c-afd4-d60ef8ac1bc3\",\"type\":\"ResetTool\"},{\"id\":\"f9186e73-bcd1-480c-9e59-601b5b1d4859\",\"type\":\"HelpTool\"}],\"x_range\":{\"id\":\"54b17a8f-f7b4-42ba-b4b8-90f0f9157f90\",\"type\":\"DataRange1d\"},\"y_range\":{\"id\":\"bc2ad126-b835-4b93-8450-5c5e0a29b99f\",\"type\":\"DataRange1d\"}},\"id\":\"9567f8c4-9cc0-4527-9c21-bd1ea3f86488\",\"subtype\":\"Figure\",\"type\":\"Plot\"},{\"attributes\":{},\"id\":\"15294000-c625-4eff-8dab-e1f523690e26\",\"type\":\"ToolEvents\"},{\"attributes\":{\"formatter\":{\"id\":\"51c987ce-afeb-42a3-8671-c08f832858e0\",\"type\":\"BasicTickFormatter\"},\"plot\":{\"id\":\"c21d4f40-9d4c-4382-a007-c6a8427416d2\",\"subtype\":\"Figure\",\"type\":\"Plot\"},\"ticker\":{\"id\":\"55ca7176-263e-4ffe-b0ad-946ea7f014de\",\"type\":\"BasicTicker\"}},\"id\":\"be255456-a99e-4854-9e72-905ae4fea5d5\",\"type\":\"LinearAxis\"},{\"attributes\":{\"plot\":{\"id\":\"d0d92c82-b427-4879-a089-7f77b08e6696\",\"subtype\":\"Figure\",\"type\":\"Plot\"}},\"id\":\"8759d440-5d92-429f-a788-8524695e0c83\",\"type\":\"PreviewSaveTool\"},{\"attributes\":{\"bottom_units\":\"screen\",\"fill_alpha\":{\"value\":0.5},\"fill_color\":{\"value\":\"lightgrey\"},\"left_units\":\"screen\",\"level\":\"overlay\",\"line_alpha\":{\"value\":1.0},\"line_color\":{\"value\":\"black\"},\"line_dash\":[4,4],\"line_width\":{\"value\":2},\"plot\":null,\"render_mode\":\"css\",\"right_units\":\"screen\",\"top_units\":\"screen\"},\"id\":\"0c608f15-c801-4416-aaaa-784afbc86cff\",\"type\":\"BoxAnnotation\"},{\"attributes\":{},\"id\":\"e6a26a75-609f-41e8-9b7b-59b8b124af85\",\"type\":\"ToolEvents\"},{\"attributes\":{\"dimension\":1,\"plot\":{\"id\":\"c21d4f40-9d4c-4382-a007-c6a8427416d2\",\"subtype\":\"Figure\",\"type\":\"Plot\"},\"ticker\":{\"id\":\"55ca7176-263e-4ffe-b0ad-946ea7f014de\",\"type\":\"BasicTicker\"}},\"id\":\"e74c1739-f766-43cf-9b6f-fe0ea84ab9a9\",\"type\":\"Grid\"},{\"attributes\":{},\"id\":\"9d10587e-6633-4772-bffd-cbc9fe7e62df\",\"type\":\"BasicTicker\"},{\"attributes\":{\"data_source\":{\"id\":\"01de13c9-bcf8-418c-a9b6-53b8511ca0b6\",\"type\":\"ColumnDataSource\"},\"glyph\":{\"id\":\"a63f3a7b-154f-434b-afa5-af7ad16d2ace\",\"type\":\"Line\"},\"hover_glyph\":null,\"nonselection_glyph\":{\"id\":\"364933fd-529e-48f9-85e3-769647e5b901\",\"type\":\"Line\"},\"selection_glyph\":null},\"id\":\"a455ae1d-bbbf-47a3-9125-259c6023f460\",\"type\":\"GlyphRenderer\"},{\"attributes\":{\"callback\":null,\"column_names\":[\"y\",\"x\"],\"data\":{\"x\":[1,2,3,4,5],\"y\":[6,7,2,4,5]}},\"id\":\"d5ba9a80-0a2d-4555-ab1d-9193b6380acc\",\"type\":\"ColumnDataSource\"},{\"attributes\":{\"formatter\":{\"id\":\"96c9f264-52e4-4394-ac72-9cd46c693631\",\"type\":\"BasicTickFormatter\"},\"plot\":{\"id\":\"d0d92c82-b427-4879-a089-7f77b08e6696\",\"subtype\":\"Figure\",\"type\":\"Plot\"},\"ticker\":{\"id\":\"7a0680f7-f370-435c-bf0f-203af85a8423\",\"type\":\"BasicTicker\"}},\"id\":\"800a27b7-0101-480c-8052-d34e0a208512\",\"type\":\"LinearAxis\"},{\"attributes\":{},\"id\":\"7a83245a-b88f-4c1e-8425-0a3cac131661\",\"type\":\"BasicTicker\"},{\"attributes\":{},\"id\":\"8eb4da4e-106a-48fb-ac40-5afd28a60a61\",\"type\":\"BasicTickFormatter\"},{\"attributes\":{\"callback\":null},\"id\":\"17261dc5-dd2d-4ed2-b6c8-c7df47c41337\",\"type\":\"DataRange1d\"},{\"attributes\":{\"callback\":null},\"id\":\"bc2ad126-b835-4b93-8450-5c5e0a29b99f\",\"type\":\"DataRange1d\"},{\"attributes\":{\"data_source\":{\"id\":\"39d9139e-caee-46e4-960f-761be31d9072\",\"type\":\"ColumnDataSource\"},\"glyph\":{\"id\":\"172bfe0c-e44b-4768-a0c4-16d2c1647672\",\"type\":\"Line\"},\"hover_glyph\":null,\"nonselection_glyph\":{\"id\":\"681ac0ea-bd22-4662-a852-5e9aceb5bdbf\",\"type\":\"Line\"},\"selection_glyph\":null},\"id\":\"2a6b7963-1b4e-4aff-ac6a-26a1ef4c27e6\",\"type\":\"GlyphRenderer\"},{\"attributes\":{\"plot\":{\"id\":\"9567f8c4-9cc0-4527-9c21-bd1ea3f86488\",\"subtype\":\"Figure\",\"type\":\"Plot\"}},\"id\":\"f9186e73-bcd1-480c-9e59-601b5b1d4859\",\"type\":\"HelpTool\"},{\"attributes\":{},\"id\":\"0d35fd2e-b66e-47d4-9865-6c2ed043d0e3\",\"type\":\"BasicTickFormatter\"},{\"attributes\":{\"plot\":{\"id\":\"c21d4f40-9d4c-4382-a007-c6a8427416d2\",\"subtype\":\"Figure\",\"type\":\"Plot\"}},\"id\":\"b5c3002b-319f-4c75-99ed-457092bb11f3\",\"type\":\"WheelZoomTool\"},{\"attributes\":{\"callback\":null},\"id\":\"6d60104b-abc4-428c-b3ad-3e6a7597eb13\",\"type\":\"DataRange1d\"},{\"attributes\":{\"plot\":{\"id\":\"9567f8c4-9cc0-4527-9c21-bd1ea3f86488\",\"subtype\":\"Figure\",\"type\":\"Plot\"}},\"id\":\"49e97e11-91ad-453e-bd3e-ee2a460d07fb\",\"type\":\"ResizeTool\"},{\"attributes\":{\"line_alpha\":{\"value\":0.1},\"line_color\":{\"value\":\"#1f77b4\"},\"line_width\":{\"value\":2},\"x\":{\"field\":\"x\"},\"y\":{\"field\":\"y\"}},\"id\":\"364933fd-529e-48f9-85e3-769647e5b901\",\"type\":\"Line\"},{\"attributes\":{\"formatter\":{\"id\":\"8eb4da4e-106a-48fb-ac40-5afd28a60a61\",\"type\":\"BasicTickFormatter\"},\"plot\":{\"id\":\"9567f8c4-9cc0-4527-9c21-bd1ea3f86488\",\"subtype\":\"Figure\",\"type\":\"Plot\"},\"ticker\":{\"id\":\"7a83245a-b88f-4c1e-8425-0a3cac131661\",\"type\":\"BasicTicker\"}},\"id\":\"7d528bf6-aca8-4531-a4d2-fe9bb89f082b\",\"type\":\"LinearAxis\"},{\"attributes\":{\"bottom_units\":\"screen\",\"fill_alpha\":{\"value\":0.5},\"fill_color\":{\"value\":\"lightgrey\"},\"left_units\":\"screen\",\"level\":\"overlay\",\"line_alpha\":{\"value\":1.0},\"line_color\":{\"value\":\"black\"},\"line_dash\":[4,4],\"line_width\":{\"value\":2},\"plot\":null,\"render_mode\":\"css\",\"right_units\":\"screen\",\"top_units\":\"screen\"},\"id\":\"4eee66b9-64ef-4893-90eb-9a8a4ce13182\",\"type\":\"BoxAnnotation\"},{\"attributes\":{\"dimension\":1,\"plot\":{\"id\":\"d0d92c82-b427-4879-a089-7f77b08e6696\",\"subtype\":\"Figure\",\"type\":\"Plot\"},\"ticker\":{\"id\":\"7a0680f7-f370-435c-bf0f-203af85a8423\",\"type\":\"BasicTicker\"}},\"id\":\"945e42a8-d09f-4192-a91a-6d93406a5332\",\"type\":\"Grid\"},{\"attributes\":{\"line_color\":{\"value\":\"#1f77b4\"},\"line_width\":{\"value\":2},\"x\":{\"field\":\"x\"},\"y\":{\"field\":\"y\"}},\"id\":\"a63f3a7b-154f-434b-afa5-af7ad16d2ace\",\"type\":\"Line\"},{\"attributes\":{\"plot\":{\"id\":\"9567f8c4-9cc0-4527-9c21-bd1ea3f86488\",\"subtype\":\"Figure\",\"type\":\"Plot\"}},\"id\":\"a622d5a4-8f6a-4567-a219-aa690a113f99\",\"type\":\"WheelZoomTool\"},{\"attributes\":{\"below\":[{\"id\":\"2579858d-03c1-40c8-a08b-0ac71107bef6\",\"type\":\"LinearAxis\"}],\"left\":[{\"id\":\"800a27b7-0101-480c-8052-d34e0a208512\",\"type\":\"LinearAxis\"}],\"renderers\":[{\"id\":\"2579858d-03c1-40c8-a08b-0ac71107bef6\",\"type\":\"LinearAxis\"},{\"id\":\"fa4a3200-bdef-433f-b20b-e9140fdc93a7\",\"type\":\"Grid\"},{\"id\":\"800a27b7-0101-480c-8052-d34e0a208512\",\"type\":\"LinearAxis\"},{\"id\":\"945e42a8-d09f-4192-a91a-6d93406a5332\",\"type\":\"Grid\"},{\"id\":\"0c608f15-c801-4416-aaaa-784afbc86cff\",\"type\":\"BoxAnnotation\"},{\"id\":\"a455ae1d-bbbf-47a3-9125-259c6023f460\",\"type\":\"GlyphRenderer\"}],\"tool_events\":{\"id\":\"e6a26a75-609f-41e8-9b7b-59b8b124af85\",\"type\":\"ToolEvents\"},\"tools\":[{\"id\":\"08e04574-b21b-4296-8ed9-bb696fc5ac6c\",\"type\":\"PanTool\"},{\"id\":\"4c2b9e94-273e-4663-a237-d9b633d217df\",\"type\":\"WheelZoomTool\"},{\"id\":\"a495f310-25ba-4948-bad6-925990ac93ca\",\"type\":\"BoxZoomTool\"},{\"id\":\"8759d440-5d92-429f-a788-8524695e0c83\",\"type\":\"PreviewSaveTool\"},{\"id\":\"421a3d80-406e-4504-a56f-b1f34e272f26\",\"type\":\"ResizeTool\"},{\"id\":\"92acf0c1-120d-4468-90ba-3aed10a7e6b3\",\"type\":\"ResetTool\"},{\"id\":\"04649b51-cebd-455f-9e12-405a3b3d9e3d\",\"type\":\"HelpTool\"}],\"x_range\":{\"id\":\"bbb0f30e-f920-4d31-8062-9e9143631fed\",\"type\":\"DataRange1d\"},\"y_range\":{\"id\":\"3e441714-7c43-4a67-9254-b8971a054c01\",\"type\":\"DataRange1d\"}},\"id\":\"d0d92c82-b427-4879-a089-7f77b08e6696\",\"subtype\":\"Figure\",\"type\":\"Plot\"},{\"attributes\":{},\"id\":\"15d10700-bfd9-4183-8869-4d996f8e8fab\",\"type\":\"BasicTickFormatter\"},{\"attributes\":{\"plot\":{\"id\":\"c21d4f40-9d4c-4382-a007-c6a8427416d2\",\"subtype\":\"Figure\",\"type\":\"Plot\"}},\"id\":\"dbef4d71-7fb1-4a32-8784-af2300e09394\",\"type\":\"HelpTool\"},{\"attributes\":{\"plot\":{\"id\":\"c21d4f40-9d4c-4382-a007-c6a8427416d2\",\"subtype\":\"Figure\",\"type\":\"Plot\"}},\"id\":\"da59ba75-456c-4ca3-b2ad-1bffffde3259\",\"type\":\"PreviewSaveTool\"},{\"attributes\":{\"formatter\":{\"id\":\"d94a4677-4be6-455b-8165-7076bdab4c58\",\"type\":\"BasicTickFormatter\"},\"plot\":{\"id\":\"c21d4f40-9d4c-4382-a007-c6a8427416d2\",\"subtype\":\"Figure\",\"type\":\"Plot\"},\"ticker\":{\"id\":\"9d10587e-6633-4772-bffd-cbc9fe7e62df\",\"type\":\"BasicTicker\"}},\"id\":\"c56d0587-5738-4a84-a770-7094bf799d19\",\"type\":\"LinearAxis\"},{\"attributes\":{\"plot\":{\"id\":\"9567f8c4-9cc0-4527-9c21-bd1ea3f86488\",\"subtype\":\"Figure\",\"type\":\"Plot\"},\"ticker\":{\"id\":\"d6699e9b-1b2a-40ad-9839-d87b6681314d\",\"type\":\"BasicTicker\"}},\"id\":\"7f8fdce6-89a9-4fc1-ae3d-deaec6a08de9\",\"type\":\"Grid\"},{\"attributes\":{\"overlay\":{\"id\":\"64d601fa-c3bb-4ffa-8a6f-e4f55f7d630c\",\"type\":\"BoxAnnotation\"},\"plot\":{\"id\":\"c21d4f40-9d4c-4382-a007-c6a8427416d2\",\"subtype\":\"Figure\",\"type\":\"Plot\"}},\"id\":\"ecf72297-7910-4e24-927b-ede7e5f4b3c7\",\"type\":\"BoxZoomTool\"},{\"attributes\":{\"plot\":{\"id\":\"d0d92c82-b427-4879-a089-7f77b08e6696\",\"subtype\":\"Figure\",\"type\":\"Plot\"}},\"id\":\"4c2b9e94-273e-4663-a237-d9b633d217df\",\"type\":\"WheelZoomTool\"},{\"attributes\":{},\"id\":\"55ca7176-263e-4ffe-b0ad-946ea7f014de\",\"type\":\"BasicTicker\"},{\"attributes\":{},\"id\":\"ca8707d3-c0a6-465a-86d8-0d0422402a6e\",\"type\":\"ToolEvents\"},{\"attributes\":{},\"id\":\"96c9f264-52e4-4394-ac72-9cd46c693631\",\"type\":\"BasicTickFormatter\"},{\"attributes\":{\"line_alpha\":{\"value\":0.1},\"line_color\":{\"value\":\"#1f77b4\"},\"line_width\":{\"value\":2},\"x\":{\"field\":\"x\"},\"y\":{\"field\":\"y\"}},\"id\":\"2e35fa6f-78c2-40fc-b97a-358e2915e4da\",\"type\":\"Line\"},{\"attributes\":{\"callback\":null},\"id\":\"bbb0f30e-f920-4d31-8062-9e9143631fed\",\"type\":\"DataRange1d\"},{\"attributes\":{\"plot\":{\"id\":\"9567f8c4-9cc0-4527-9c21-bd1ea3f86488\",\"subtype\":\"Figure\",\"type\":\"Plot\"}},\"id\":\"6f6de093-05d7-4101-b2a3-968a7d81fc21\",\"type\":\"PreviewSaveTool\"},{\"attributes\":{},\"id\":\"d94a4677-4be6-455b-8165-7076bdab4c58\",\"type\":\"BasicTickFormatter\"},{\"attributes\":{\"plot\":{\"id\":\"9567f8c4-9cc0-4527-9c21-bd1ea3f86488\",\"subtype\":\"Figure\",\"type\":\"Plot\"}},\"id\":\"41a32d5a-e662-4a3c-afd4-d60ef8ac1bc3\",\"type\":\"ResetTool\"},{\"attributes\":{\"formatter\":{\"id\":\"15d10700-bfd9-4183-8869-4d996f8e8fab\",\"type\":\"BasicTickFormatter\"},\"plot\":{\"id\":\"d0d92c82-b427-4879-a089-7f77b08e6696\",\"subtype\":\"Figure\",\"type\":\"Plot\"},\"ticker\":{\"id\":\"ae8655d9-9a9c-4eab-8f29-d81a7c367616\",\"type\":\"BasicTicker\"}},\"id\":\"2579858d-03c1-40c8-a08b-0ac71107bef6\",\"type\":\"LinearAxis\"},{\"attributes\":{\"line_alpha\":{\"value\":0.1},\"line_color\":{\"value\":\"#1f77b4\"},\"line_width\":{\"value\":2},\"x\":{\"field\":\"x\"},\"y\":{\"field\":\"y\"}},\"id\":\"681ac0ea-bd22-4662-a852-5e9aceb5bdbf\",\"type\":\"Line\"},{\"attributes\":{\"callback\":null,\"column_names\":[\"y\",\"x\"],\"data\":{\"x\":[1,2,3,4,5],\"y\":[6,7,2,4,5]}},\"id\":\"01de13c9-bcf8-418c-a9b6-53b8511ca0b6\",\"type\":\"ColumnDataSource\"},{\"attributes\":{\"plot\":{\"id\":\"d0d92c82-b427-4879-a089-7f77b08e6696\",\"subtype\":\"Figure\",\"type\":\"Plot\"}},\"id\":\"421a3d80-406e-4504-a56f-b1f34e272f26\",\"type\":\"ResizeTool\"},{\"attributes\":{\"plot\":{\"id\":\"d0d92c82-b427-4879-a089-7f77b08e6696\",\"subtype\":\"Figure\",\"type\":\"Plot\"}},\"id\":\"92acf0c1-120d-4468-90ba-3aed10a7e6b3\",\"type\":\"ResetTool\"},{\"attributes\":{\"bottom_units\":\"screen\",\"fill_alpha\":{\"value\":0.5},\"fill_color\":{\"value\":\"lightgrey\"},\"left_units\":\"screen\",\"level\":\"overlay\",\"line_alpha\":{\"value\":1.0},\"line_color\":{\"value\":\"black\"},\"line_dash\":[4,4],\"line_width\":{\"value\":2},\"plot\":null,\"render_mode\":\"css\",\"right_units\":\"screen\",\"top_units\":\"screen\"},\"id\":\"64d601fa-c3bb-4ffa-8a6f-e4f55f7d630c\",\"type\":\"BoxAnnotation\"},{\"attributes\":{\"plot\":{\"id\":\"c21d4f40-9d4c-4382-a007-c6a8427416d2\",\"subtype\":\"Figure\",\"type\":\"Plot\"},\"ticker\":{\"id\":\"9d10587e-6633-4772-bffd-cbc9fe7e62df\",\"type\":\"BasicTicker\"}},\"id\":\"17a016bb-b40a-4ca3-94b0-c31612be7d83\",\"type\":\"Grid\"}],\"root_ids\":[\"c21d4f40-9d4c-4382-a007-c6a8427416d2\",\"d0d92c82-b427-4879-a089-7f77b08e6696\",\"9567f8c4-9cc0-4527-9c21-bd1ea3f86488\"]},\"title\":\"Bokeh Application\",\"version\":\"0.11.1\"}};\n",
       "            var render_items = [{\"docid\":\"095fe7a4-5494-49f6-aa2e-56418893476b\",\"elementid\":\"8f17d9d2-c03c-4502-97ac-181e74c2c9f5\",\"modelid\":\"9567f8c4-9cc0-4527-9c21-bd1ea3f86488\",\"notebook_comms_target\":\"59125120-8b4d-415d-8718-6310efe5b897\"}];\n",
       "            \n",
       "            Bokeh.embed.embed_items(docs_json, render_items);\n",
       "        });\n",
       "      },\n",
       "      function(Bokeh) {\n",
       "      }\n",
       "    ];\n",
       "  \n",
       "    function run_inline_js() {\n",
       "      for (var i = 0; i < inline_js.length; i++) {\n",
       "        inline_js[i](window.Bokeh);\n",
       "      }\n",
       "    }\n",
       "  \n",
       "    if (window._bokeh_is_loading === 0) {\n",
       "      console.log(\"Bokeh: BokehJS loaded, going straight to plotting\");\n",
       "      run_inline_js();\n",
       "    } else {\n",
       "      load_libs(js_urls, function() {\n",
       "        console.log(\"Bokeh: BokehJS plotting callback run at\", now());\n",
       "        run_inline_js();\n",
       "      });\n",
       "    }\n",
       "  }(this));\n",
       "</script>"
      ]
     },
     "metadata": {},
     "output_type": "display_data"
    },
    {
     "data": {
      "text/html": [
       "<p><code>&lt;Bokeh Notebook handle for <strong>In[68]</strong>&gt;</code></p>"
      ],
      "text/plain": [
       "<bokeh.io._CommsHandle at 0x11cb7d518>"
      ]
     },
     "execution_count": 68,
     "metadata": {},
     "output_type": "execute_result"
    }
   ],
   "source": [
    "from bokeh.plotting import figure, output_notebook, show\n",
    "output_notebook()\n",
    "p = figure()\n",
    "p.line([1, 2, 3, 4, 5], [6, 7, 2, 4, 5], line_width=2)\n",
    "show(p)"
   ]
  },
  {
   "cell_type": "code",
   "execution_count": 71,
   "metadata": {
    "collapsed": false
   },
   "outputs": [
    {
     "name": "stdout",
     "output_type": "stream",
     "text": [
      "+-------+------------------+------------------+---------------------+-------------------+-----------------+\n",
      "|summary|         site_name|    posa_continent|user_location_country|srch_destination_id|    hotel_country|\n",
      "+-------+------------------+------------------+---------------------+-------------------+-----------------+\n",
      "|  count|          37670293|          37670293|             37670293|           37670293|         37670293|\n",
      "|   mean| 9.795271329585889|2.6804730188851997|    86.10880194109454| 14441.090543760836|81.29685165974153|\n",
      "| stddev|11.967543566513172|0.7480393482506555|    59.24310334784055| 11066.302332627416|56.17118806288662|\n",
      "|    min|                 2|                 0|                    0|                  0|                0|\n",
      "|    max|                53|                 4|                  239|              65107|              212|\n",
      "+-------+------------------+------------------+---------------------+-------------------+-----------------+\n",
      "\n"
     ]
    }
   ],
   "source": [
    "df.select('site_name','posa_continent','user_location_country','srch_destination_id','hotel_country').describe().show()"
   ]
  },
  {
   "cell_type": "code",
   "execution_count": null,
   "metadata": {
    "collapsed": true
   },
   "outputs": [],
   "source": []
  }
 ],
 "metadata": {
  "kernelspec": {
   "display_name": "Python 3",
   "language": "python",
   "name": "python3"
  },
  "language_info": {
   "codemirror_mode": {
    "name": "ipython",
    "version": 3
   },
   "file_extension": ".py",
   "mimetype": "text/x-python",
   "name": "python",
   "nbconvert_exporter": "python",
   "pygments_lexer": "ipython3",
   "version": "3.5.1"
  }
 },
 "nbformat": 4,
 "nbformat_minor": 0
}
